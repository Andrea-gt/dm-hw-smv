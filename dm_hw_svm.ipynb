{
  "cells": [
    {
      "cell_type": "markdown",
      "metadata": {
        "id": "OP3aZqm1vgbE"
      },
      "source": [
        "# Data Mining - Support Vector Machines ⚙️"
      ]
    },
    {
      "cell_type": "markdown",
      "metadata": {
        "id": "L_tLmbgXvsUA"
      },
      "source": [
        "**Authors:** [Melissa Perez](https://github.com/MelissaPerez09), [Adrian Flores](https://github.com/adrianRFlores), [Andrea Ramirez](https://github.com/Andrea-gt)\n",
        "\n",
        "**Description:**"
      ]
    },
    {
      "cell_type": "markdown",
      "metadata": {
        "id": "Gg5PPzeSvxiN"
      },
      "source": [
        "## Import Libraries ⬇️"
      ]
    },
    {
      "cell_type": "code",
      "execution_count": 2,
      "metadata": {
        "id": "y0Nm0hlVDz1S"
      },
      "outputs": [],
      "source": [
        "# Standard libraries\n",
        "import time\n",
        "import warnings\n",
        "\n",
        "# Data manipulation and visualization\n",
        "import matplotlib.pyplot as plt\n",
        "import numpy as np\n",
        "import pandas as pd\n",
        "import seaborn as sns\n",
        "\n",
        "# Machine learning models and tools\n",
        "from sklearn.model_selection import train_test_split, cross_val_score, cross_val_predict, GridSearchCV\n",
        "from sklearn.preprocessing import StandardScaler, OrdinalEncoder\n",
        "from sklearn.svm import SVC\n",
        "from sklearn.metrics import (confusion_matrix, accuracy_score, precision_score,\n",
        "                             recall_score, mean_squared_error, mean_absolute_error,\n",
        "                             r2_score, classification_report, f1_score, ConfusionMatrixDisplay)\n",
        "\n",
        "# Set matplotlib inline\n",
        "%matplotlib inline\n",
        "\n",
        "# Set random state\n",
        "random_state = 42\n",
        "\n",
        "# Set default figure size\n",
        "plt.rcParams['figure.figsize'] = (6, 4)"
      ]
    },
    {
      "cell_type": "markdown",
      "metadata": {
        "id": "xR1SLvr1v4Sc"
      },
      "source": [
        "## Data Upload 📄"
      ]
    },
    {
      "cell_type": "code",
      "execution_count": 3,
      "metadata": {
        "colab": {
          "base_uri": "https://localhost:8080/",
          "height": 443
        },
        "id": "Y03RhrTmD6GB",
        "outputId": "324b3f96-6e20-4789-bec9-c0174ec348dc"
      },
      "outputs": [
        {
          "data": {
            "text/html": [
              "<div>\n",
              "<style scoped>\n",
              "    .dataframe tbody tr th:only-of-type {\n",
              "        vertical-align: middle;\n",
              "    }\n",
              "\n",
              "    .dataframe tbody tr th {\n",
              "        vertical-align: top;\n",
              "    }\n",
              "\n",
              "    .dataframe thead th {\n",
              "        text-align: right;\n",
              "    }\n",
              "</style>\n",
              "<table border=\"1\" class=\"dataframe\">\n",
              "  <thead>\n",
              "    <tr style=\"text-align: right;\">\n",
              "      <th></th>\n",
              "      <th>Id</th>\n",
              "      <th>MSSubClass</th>\n",
              "      <th>MSZoning</th>\n",
              "      <th>LotFrontage</th>\n",
              "      <th>LotArea</th>\n",
              "      <th>Street</th>\n",
              "      <th>Alley</th>\n",
              "      <th>LotShape</th>\n",
              "      <th>LandContour</th>\n",
              "      <th>Utilities</th>\n",
              "      <th>...</th>\n",
              "      <th>PoolArea</th>\n",
              "      <th>PoolQC</th>\n",
              "      <th>Fence</th>\n",
              "      <th>MiscFeature</th>\n",
              "      <th>MiscVal</th>\n",
              "      <th>MoSold</th>\n",
              "      <th>YrSold</th>\n",
              "      <th>SaleType</th>\n",
              "      <th>SaleCondition</th>\n",
              "      <th>SalePrice</th>\n",
              "    </tr>\n",
              "  </thead>\n",
              "  <tbody>\n",
              "    <tr>\n",
              "      <th>0</th>\n",
              "      <td>1</td>\n",
              "      <td>60</td>\n",
              "      <td>RL</td>\n",
              "      <td>65.0</td>\n",
              "      <td>8450</td>\n",
              "      <td>Pave</td>\n",
              "      <td>NaN</td>\n",
              "      <td>Reg</td>\n",
              "      <td>Lvl</td>\n",
              "      <td>AllPub</td>\n",
              "      <td>...</td>\n",
              "      <td>0</td>\n",
              "      <td>NaN</td>\n",
              "      <td>NaN</td>\n",
              "      <td>NaN</td>\n",
              "      <td>0</td>\n",
              "      <td>2</td>\n",
              "      <td>2008</td>\n",
              "      <td>WD</td>\n",
              "      <td>Normal</td>\n",
              "      <td>208500</td>\n",
              "    </tr>\n",
              "    <tr>\n",
              "      <th>1</th>\n",
              "      <td>2</td>\n",
              "      <td>20</td>\n",
              "      <td>RL</td>\n",
              "      <td>80.0</td>\n",
              "      <td>9600</td>\n",
              "      <td>Pave</td>\n",
              "      <td>NaN</td>\n",
              "      <td>Reg</td>\n",
              "      <td>Lvl</td>\n",
              "      <td>AllPub</td>\n",
              "      <td>...</td>\n",
              "      <td>0</td>\n",
              "      <td>NaN</td>\n",
              "      <td>NaN</td>\n",
              "      <td>NaN</td>\n",
              "      <td>0</td>\n",
              "      <td>5</td>\n",
              "      <td>2007</td>\n",
              "      <td>WD</td>\n",
              "      <td>Normal</td>\n",
              "      <td>181500</td>\n",
              "    </tr>\n",
              "    <tr>\n",
              "      <th>2</th>\n",
              "      <td>3</td>\n",
              "      <td>60</td>\n",
              "      <td>RL</td>\n",
              "      <td>68.0</td>\n",
              "      <td>11250</td>\n",
              "      <td>Pave</td>\n",
              "      <td>NaN</td>\n",
              "      <td>IR1</td>\n",
              "      <td>Lvl</td>\n",
              "      <td>AllPub</td>\n",
              "      <td>...</td>\n",
              "      <td>0</td>\n",
              "      <td>NaN</td>\n",
              "      <td>NaN</td>\n",
              "      <td>NaN</td>\n",
              "      <td>0</td>\n",
              "      <td>9</td>\n",
              "      <td>2008</td>\n",
              "      <td>WD</td>\n",
              "      <td>Normal</td>\n",
              "      <td>223500</td>\n",
              "    </tr>\n",
              "    <tr>\n",
              "      <th>3</th>\n",
              "      <td>4</td>\n",
              "      <td>70</td>\n",
              "      <td>RL</td>\n",
              "      <td>60.0</td>\n",
              "      <td>9550</td>\n",
              "      <td>Pave</td>\n",
              "      <td>NaN</td>\n",
              "      <td>IR1</td>\n",
              "      <td>Lvl</td>\n",
              "      <td>AllPub</td>\n",
              "      <td>...</td>\n",
              "      <td>0</td>\n",
              "      <td>NaN</td>\n",
              "      <td>NaN</td>\n",
              "      <td>NaN</td>\n",
              "      <td>0</td>\n",
              "      <td>2</td>\n",
              "      <td>2006</td>\n",
              "      <td>WD</td>\n",
              "      <td>Abnorml</td>\n",
              "      <td>140000</td>\n",
              "    </tr>\n",
              "    <tr>\n",
              "      <th>4</th>\n",
              "      <td>5</td>\n",
              "      <td>60</td>\n",
              "      <td>RL</td>\n",
              "      <td>84.0</td>\n",
              "      <td>14260</td>\n",
              "      <td>Pave</td>\n",
              "      <td>NaN</td>\n",
              "      <td>IR1</td>\n",
              "      <td>Lvl</td>\n",
              "      <td>AllPub</td>\n",
              "      <td>...</td>\n",
              "      <td>0</td>\n",
              "      <td>NaN</td>\n",
              "      <td>NaN</td>\n",
              "      <td>NaN</td>\n",
              "      <td>0</td>\n",
              "      <td>12</td>\n",
              "      <td>2008</td>\n",
              "      <td>WD</td>\n",
              "      <td>Normal</td>\n",
              "      <td>250000</td>\n",
              "    </tr>\n",
              "    <tr>\n",
              "      <th>...</th>\n",
              "      <td>...</td>\n",
              "      <td>...</td>\n",
              "      <td>...</td>\n",
              "      <td>...</td>\n",
              "      <td>...</td>\n",
              "      <td>...</td>\n",
              "      <td>...</td>\n",
              "      <td>...</td>\n",
              "      <td>...</td>\n",
              "      <td>...</td>\n",
              "      <td>...</td>\n",
              "      <td>...</td>\n",
              "      <td>...</td>\n",
              "      <td>...</td>\n",
              "      <td>...</td>\n",
              "      <td>...</td>\n",
              "      <td>...</td>\n",
              "      <td>...</td>\n",
              "      <td>...</td>\n",
              "      <td>...</td>\n",
              "      <td>...</td>\n",
              "    </tr>\n",
              "    <tr>\n",
              "      <th>1455</th>\n",
              "      <td>1456</td>\n",
              "      <td>60</td>\n",
              "      <td>RL</td>\n",
              "      <td>62.0</td>\n",
              "      <td>7917</td>\n",
              "      <td>Pave</td>\n",
              "      <td>NaN</td>\n",
              "      <td>Reg</td>\n",
              "      <td>Lvl</td>\n",
              "      <td>AllPub</td>\n",
              "      <td>...</td>\n",
              "      <td>0</td>\n",
              "      <td>NaN</td>\n",
              "      <td>NaN</td>\n",
              "      <td>NaN</td>\n",
              "      <td>0</td>\n",
              "      <td>8</td>\n",
              "      <td>2007</td>\n",
              "      <td>WD</td>\n",
              "      <td>Normal</td>\n",
              "      <td>175000</td>\n",
              "    </tr>\n",
              "    <tr>\n",
              "      <th>1456</th>\n",
              "      <td>1457</td>\n",
              "      <td>20</td>\n",
              "      <td>RL</td>\n",
              "      <td>85.0</td>\n",
              "      <td>13175</td>\n",
              "      <td>Pave</td>\n",
              "      <td>NaN</td>\n",
              "      <td>Reg</td>\n",
              "      <td>Lvl</td>\n",
              "      <td>AllPub</td>\n",
              "      <td>...</td>\n",
              "      <td>0</td>\n",
              "      <td>NaN</td>\n",
              "      <td>MnPrv</td>\n",
              "      <td>NaN</td>\n",
              "      <td>0</td>\n",
              "      <td>2</td>\n",
              "      <td>2010</td>\n",
              "      <td>WD</td>\n",
              "      <td>Normal</td>\n",
              "      <td>210000</td>\n",
              "    </tr>\n",
              "    <tr>\n",
              "      <th>1457</th>\n",
              "      <td>1458</td>\n",
              "      <td>70</td>\n",
              "      <td>RL</td>\n",
              "      <td>66.0</td>\n",
              "      <td>9042</td>\n",
              "      <td>Pave</td>\n",
              "      <td>NaN</td>\n",
              "      <td>Reg</td>\n",
              "      <td>Lvl</td>\n",
              "      <td>AllPub</td>\n",
              "      <td>...</td>\n",
              "      <td>0</td>\n",
              "      <td>NaN</td>\n",
              "      <td>GdPrv</td>\n",
              "      <td>Shed</td>\n",
              "      <td>2500</td>\n",
              "      <td>5</td>\n",
              "      <td>2010</td>\n",
              "      <td>WD</td>\n",
              "      <td>Normal</td>\n",
              "      <td>266500</td>\n",
              "    </tr>\n",
              "    <tr>\n",
              "      <th>1458</th>\n",
              "      <td>1459</td>\n",
              "      <td>20</td>\n",
              "      <td>RL</td>\n",
              "      <td>68.0</td>\n",
              "      <td>9717</td>\n",
              "      <td>Pave</td>\n",
              "      <td>NaN</td>\n",
              "      <td>Reg</td>\n",
              "      <td>Lvl</td>\n",
              "      <td>AllPub</td>\n",
              "      <td>...</td>\n",
              "      <td>0</td>\n",
              "      <td>NaN</td>\n",
              "      <td>NaN</td>\n",
              "      <td>NaN</td>\n",
              "      <td>0</td>\n",
              "      <td>4</td>\n",
              "      <td>2010</td>\n",
              "      <td>WD</td>\n",
              "      <td>Normal</td>\n",
              "      <td>142125</td>\n",
              "    </tr>\n",
              "    <tr>\n",
              "      <th>1459</th>\n",
              "      <td>1460</td>\n",
              "      <td>20</td>\n",
              "      <td>RL</td>\n",
              "      <td>75.0</td>\n",
              "      <td>9937</td>\n",
              "      <td>Pave</td>\n",
              "      <td>NaN</td>\n",
              "      <td>Reg</td>\n",
              "      <td>Lvl</td>\n",
              "      <td>AllPub</td>\n",
              "      <td>...</td>\n",
              "      <td>0</td>\n",
              "      <td>NaN</td>\n",
              "      <td>NaN</td>\n",
              "      <td>NaN</td>\n",
              "      <td>0</td>\n",
              "      <td>6</td>\n",
              "      <td>2008</td>\n",
              "      <td>WD</td>\n",
              "      <td>Normal</td>\n",
              "      <td>147500</td>\n",
              "    </tr>\n",
              "  </tbody>\n",
              "</table>\n",
              "<p>1460 rows × 81 columns</p>\n",
              "</div>"
            ],
            "text/plain": [
              "        Id  MSSubClass MSZoning  LotFrontage  LotArea Street Alley LotShape  \\\n",
              "0        1          60       RL         65.0     8450   Pave   NaN      Reg   \n",
              "1        2          20       RL         80.0     9600   Pave   NaN      Reg   \n",
              "2        3          60       RL         68.0    11250   Pave   NaN      IR1   \n",
              "3        4          70       RL         60.0     9550   Pave   NaN      IR1   \n",
              "4        5          60       RL         84.0    14260   Pave   NaN      IR1   \n",
              "...    ...         ...      ...          ...      ...    ...   ...      ...   \n",
              "1455  1456          60       RL         62.0     7917   Pave   NaN      Reg   \n",
              "1456  1457          20       RL         85.0    13175   Pave   NaN      Reg   \n",
              "1457  1458          70       RL         66.0     9042   Pave   NaN      Reg   \n",
              "1458  1459          20       RL         68.0     9717   Pave   NaN      Reg   \n",
              "1459  1460          20       RL         75.0     9937   Pave   NaN      Reg   \n",
              "\n",
              "     LandContour Utilities  ... PoolArea PoolQC  Fence MiscFeature MiscVal  \\\n",
              "0            Lvl    AllPub  ...        0    NaN    NaN         NaN       0   \n",
              "1            Lvl    AllPub  ...        0    NaN    NaN         NaN       0   \n",
              "2            Lvl    AllPub  ...        0    NaN    NaN         NaN       0   \n",
              "3            Lvl    AllPub  ...        0    NaN    NaN         NaN       0   \n",
              "4            Lvl    AllPub  ...        0    NaN    NaN         NaN       0   \n",
              "...          ...       ...  ...      ...    ...    ...         ...     ...   \n",
              "1455         Lvl    AllPub  ...        0    NaN    NaN         NaN       0   \n",
              "1456         Lvl    AllPub  ...        0    NaN  MnPrv         NaN       0   \n",
              "1457         Lvl    AllPub  ...        0    NaN  GdPrv        Shed    2500   \n",
              "1458         Lvl    AllPub  ...        0    NaN    NaN         NaN       0   \n",
              "1459         Lvl    AllPub  ...        0    NaN    NaN         NaN       0   \n",
              "\n",
              "     MoSold YrSold  SaleType  SaleCondition  SalePrice  \n",
              "0         2   2008        WD         Normal     208500  \n",
              "1         5   2007        WD         Normal     181500  \n",
              "2         9   2008        WD         Normal     223500  \n",
              "3         2   2006        WD        Abnorml     140000  \n",
              "4        12   2008        WD         Normal     250000  \n",
              "...     ...    ...       ...            ...        ...  \n",
              "1455      8   2007        WD         Normal     175000  \n",
              "1456      2   2010        WD         Normal     210000  \n",
              "1457      5   2010        WD         Normal     266500  \n",
              "1458      4   2010        WD         Normal     142125  \n",
              "1459      6   2008        WD         Normal     147500  \n",
              "\n",
              "[1460 rows x 81 columns]"
            ]
          },
          "execution_count": 3,
          "metadata": {},
          "output_type": "execute_result"
        }
      ],
      "source": [
        "df = pd.read_csv('./data/train.csv')\n",
        "df"
      ]
    },
    {
      "cell_type": "markdown",
      "metadata": {},
      "source": [
        "## Exploratory Analysis 🔎"
      ]
    },
    {
      "cell_type": "code",
      "execution_count": 4,
      "metadata": {},
      "outputs": [
        {
          "data": {
            "image/png": "[encoded data removed]",
            "text/plain": [
              "<Figure size 600x400 with 1 Axes>"
            ]
          },
          "metadata": {},
          "output_type": "display_data"
        }
      ],
      "source": [
        "sns.set_style(\"whitegrid\")\n",
        "\n",
        "# Plotting the histogram of 'SalePrice' column from DataFrame 'df'\n",
        "sns.histplot(x='SalePrice', data=df, kde=True, color='skyblue', binwidth=10000, alpha=0.7, edgecolor='black')\n",
        "\n",
        "# Plot settings\n",
        "plt.title('Distribution of Sale Prices', fontsize=14, fontweight='500')\n",
        "plt.xlabel('Sale Price', fontsize=12)\n",
        "plt.ylabel('Frequency', fontsize=12)\n",
        "plt.xticks(fontsize=10)\n",
        "plt.yticks(fontsize=10)\n",
        "\n",
        "# Calculating the mean of 'SalePrice' column\n",
        "mean_value = df['SalePrice'].mean()\n",
        "\n",
        "# Adding a vertical line representing the mean value\n",
        "plt.axvline(mean_value, color='r', linestyle='--', linewidth=2)\n",
        "\n",
        "# Adding text annotation for the mean value\n",
        "plt.text(mean_value, plt.ylim()[1]*0.9, '   Mean: {:.2f}'.format(mean_value), color='r', fontsize=12)\n",
        "\n",
        "plt.show()"
      ]
    },
    {
      "cell_type": "code",
      "execution_count": 5,
      "metadata": {},
      "outputs": [
        {
          "data": {
            "image/png": "[encoded data removed]",
            "text/plain": [
              "<Figure size 600x400 with 1 Axes>"
            ]
          },
          "metadata": {},
          "output_type": "display_data"
        }
      ],
      "source": [
        "sns.set_style(\"whitegrid\")\n",
        "\n",
        "# Plotting the boxplot of 'SalePrice' column from DataFrame 'df'\n",
        "sns.boxplot(x='SalePrice', data=df, color='skyblue')\n",
        "\n",
        "# Plot settings\n",
        "plt.title('Sale Price and Boxplot Analysis', fontsize=14, fontweight='500')\n",
        "plt.xlabel('Sale Price', fontsize=12)\n",
        "plt.xticks(fontsize=10)\n",
        "plt.yticks(fontsize=10)\n",
        "\n",
        "plt.show()"
      ]
    },
    {
      "cell_type": "markdown",
      "metadata": {
        "id": "wY1vhJPjENRb"
      },
      "source": [
        "## Data Preprocessing 🗂️"
      ]
    },
    {
      "cell_type": "markdown",
      "metadata": {
        "id": "teh89kV8EWur"
      },
      "source": [
        "### Handling Missing Values"
      ]
    },
    {
      "cell_type": "code",
      "execution_count": 6,
      "metadata": {
        "id": "e9FXY6y8hBor"
      },
      "outputs": [],
      "source": [
        "# Fill missing values in low NaN count columns\n",
        "df['Electrical'] = df['Electrical'].fillna('None')\n",
        "df['MasVnrType'] = df['MasVnrType'].fillna('None')\n",
        "df['MasVnrArea'] = df['MasVnrArea'].fillna(0)"
      ]
    },
    {
      "cell_type": "code",
      "execution_count": 7,
      "metadata": {
        "id": "CM9xd8brEc5Z"
      },
      "outputs": [],
      "source": [
        "# Impute missing LotFrontage values based on the median LotFrontage within each neighborhood.\n",
        "df['LotFrontage'] = df.groupby('Neighborhood')['LotFrontage'].transform(lambda x: x.fillna(x.median()))"
      ]
    },
    {
      "cell_type": "code",
      "execution_count": 8,
      "metadata": {
        "id": "Dcoe_ixtEfGg"
      },
      "outputs": [],
      "source": [
        "# Fill missing values in FireplaceQu with 'None'.\n",
        "df['FireplaceQu'] = df['FireplaceQu'].fillna('None')"
      ]
    },
    {
      "cell_type": "code",
      "execution_count": 9,
      "metadata": {
        "id": "_ZnDat3HEhSS"
      },
      "outputs": [],
      "source": [
        "# Fill missing values in garage-related variables with 'None'.\n",
        "df['GarageType'] = df['GarageType'].fillna('None')\n",
        "df['GarageYrBlt'] = df['GarageYrBlt'].fillna(0)\n",
        "df['GarageFinish'] = df['GarageFinish'].fillna('None')\n",
        "df['GarageQual'] = df['GarageQual'].fillna('None')\n",
        "df['GarageCond'] = df['GarageCond'].fillna('None')"
      ]
    },
    {
      "cell_type": "code",
      "execution_count": 10,
      "metadata": {
        "id": "trBPdczaEjdu"
      },
      "outputs": [],
      "source": [
        "# Fill missing values in basement-related variables with 'None'.\n",
        "df['BsmtQual'] = df['BsmtQual'].fillna('None')\n",
        "df['BsmtCond'] = df['BsmtCond'].fillna('None')\n",
        "df['BsmtExposure'] = df['BsmtExposure'].fillna('None')\n",
        "df['BsmtFinType1'] = df['BsmtFinType1'].fillna('None')\n",
        "df['BsmtFinType2'] = df['BsmtFinType2'].fillna('None')"
      ]
    },
    {
      "cell_type": "code",
      "execution_count": 11,
      "metadata": {
        "id": "kXcTKte0ElKf"
      },
      "outputs": [],
      "source": [
        "# Drop columns with a high count of missing values\n",
        "df.drop(['Alley', 'PoolQC', 'Fence', 'MiscFeature'], axis=1, inplace=True)"
      ]
    },
    {
      "cell_type": "code",
      "execution_count": 12,
      "metadata": {
        "colab": {
          "base_uri": "https://localhost:8080/"
        },
        "id": "sgT6Wf0Ogen_",
        "outputId": "1e64858c-1ef1-487a-bf02-f7102f477a34"
      },
      "outputs": [
        {
          "name": "stdout",
          "output_type": "stream",
          "text": [
            "No columns with NaN values found.\n"
          ]
        }
      ],
      "source": [
        "# Show columns with NaN values\n",
        "nullValues = df.isnull().sum()\n",
        "nullValues = nullValues[nullValues > 0]\n",
        "\n",
        "if not nullValues.empty:\n",
        "    print(\"Columns with NaN values:\")\n",
        "    print(\"-\" * 40)\n",
        "    for column, nans in nullValues.items():\n",
        "        print(f\"{column: <30} | {nans: >5} missing values\")\n",
        "    print(\"-\" * 40)\n",
        "else:\n",
        "    print(\"No columns with NaN values found.\")"
      ]
    },
    {
      "cell_type": "markdown",
      "metadata": {},
      "source": [
        "### Feature Engineering"
      ]
    },
    {
      "cell_type": "code",
      "execution_count": 13,
      "metadata": {},
      "outputs": [
        {
          "data": {
            "text/html": [
              "<div>\n",
              "<style scoped>\n",
              "    .dataframe tbody tr th:only-of-type {\n",
              "        vertical-align: middle;\n",
              "    }\n",
              "\n",
              "    .dataframe tbody tr th {\n",
              "        vertical-align: top;\n",
              "    }\n",
              "\n",
              "    .dataframe thead th {\n",
              "        text-align: right;\n",
              "    }\n",
              "</style>\n",
              "<table border=\"1\" class=\"dataframe\">\n",
              "  <thead>\n",
              "    <tr style=\"text-align: right;\">\n",
              "      <th></th>\n",
              "      <th>Id</th>\n",
              "      <th>MSSubClass</th>\n",
              "      <th>MSZoning</th>\n",
              "      <th>LotFrontage</th>\n",
              "      <th>LotArea</th>\n",
              "      <th>Street</th>\n",
              "      <th>LotShape</th>\n",
              "      <th>LandContour</th>\n",
              "      <th>Utilities</th>\n",
              "      <th>LotConfig</th>\n",
              "      <th>...</th>\n",
              "      <th>3SsnPorch</th>\n",
              "      <th>ScreenPorch</th>\n",
              "      <th>PoolArea</th>\n",
              "      <th>MiscVal</th>\n",
              "      <th>MoSold</th>\n",
              "      <th>YrSold</th>\n",
              "      <th>SaleType</th>\n",
              "      <th>SaleCondition</th>\n",
              "      <th>SalePrice</th>\n",
              "      <th>SalePriceCategory</th>\n",
              "    </tr>\n",
              "  </thead>\n",
              "  <tbody>\n",
              "    <tr>\n",
              "      <th>0</th>\n",
              "      <td>1</td>\n",
              "      <td>60</td>\n",
              "      <td>RL</td>\n",
              "      <td>65.0</td>\n",
              "      <td>8450</td>\n",
              "      <td>Pave</td>\n",
              "      <td>Reg</td>\n",
              "      <td>Lvl</td>\n",
              "      <td>AllPub</td>\n",
              "      <td>Inside</td>\n",
              "      <td>...</td>\n",
              "      <td>0</td>\n",
              "      <td>0</td>\n",
              "      <td>0</td>\n",
              "      <td>0</td>\n",
              "      <td>2</td>\n",
              "      <td>2008</td>\n",
              "      <td>WD</td>\n",
              "      <td>Normal</td>\n",
              "      <td>208500</td>\n",
              "      <td>1</td>\n",
              "    </tr>\n",
              "    <tr>\n",
              "      <th>1</th>\n",
              "      <td>2</td>\n",
              "      <td>20</td>\n",
              "      <td>RL</td>\n",
              "      <td>80.0</td>\n",
              "      <td>9600</td>\n",
              "      <td>Pave</td>\n",
              "      <td>Reg</td>\n",
              "      <td>Lvl</td>\n",
              "      <td>AllPub</td>\n",
              "      <td>FR2</td>\n",
              "      <td>...</td>\n",
              "      <td>0</td>\n",
              "      <td>0</td>\n",
              "      <td>0</td>\n",
              "      <td>0</td>\n",
              "      <td>5</td>\n",
              "      <td>2007</td>\n",
              "      <td>WD</td>\n",
              "      <td>Normal</td>\n",
              "      <td>181500</td>\n",
              "      <td>1</td>\n",
              "    </tr>\n",
              "    <tr>\n",
              "      <th>2</th>\n",
              "      <td>3</td>\n",
              "      <td>60</td>\n",
              "      <td>RL</td>\n",
              "      <td>68.0</td>\n",
              "      <td>11250</td>\n",
              "      <td>Pave</td>\n",
              "      <td>IR1</td>\n",
              "      <td>Lvl</td>\n",
              "      <td>AllPub</td>\n",
              "      <td>Inside</td>\n",
              "      <td>...</td>\n",
              "      <td>0</td>\n",
              "      <td>0</td>\n",
              "      <td>0</td>\n",
              "      <td>0</td>\n",
              "      <td>9</td>\n",
              "      <td>2008</td>\n",
              "      <td>WD</td>\n",
              "      <td>Normal</td>\n",
              "      <td>223500</td>\n",
              "      <td>1</td>\n",
              "    </tr>\n",
              "    <tr>\n",
              "      <th>3</th>\n",
              "      <td>4</td>\n",
              "      <td>70</td>\n",
              "      <td>RL</td>\n",
              "      <td>60.0</td>\n",
              "      <td>9550</td>\n",
              "      <td>Pave</td>\n",
              "      <td>IR1</td>\n",
              "      <td>Lvl</td>\n",
              "      <td>AllPub</td>\n",
              "      <td>Corner</td>\n",
              "      <td>...</td>\n",
              "      <td>0</td>\n",
              "      <td>0</td>\n",
              "      <td>0</td>\n",
              "      <td>0</td>\n",
              "      <td>2</td>\n",
              "      <td>2006</td>\n",
              "      <td>WD</td>\n",
              "      <td>Abnorml</td>\n",
              "      <td>140000</td>\n",
              "      <td>0</td>\n",
              "    </tr>\n",
              "    <tr>\n",
              "      <th>4</th>\n",
              "      <td>5</td>\n",
              "      <td>60</td>\n",
              "      <td>RL</td>\n",
              "      <td>84.0</td>\n",
              "      <td>14260</td>\n",
              "      <td>Pave</td>\n",
              "      <td>IR1</td>\n",
              "      <td>Lvl</td>\n",
              "      <td>AllPub</td>\n",
              "      <td>FR2</td>\n",
              "      <td>...</td>\n",
              "      <td>0</td>\n",
              "      <td>0</td>\n",
              "      <td>0</td>\n",
              "      <td>0</td>\n",
              "      <td>12</td>\n",
              "      <td>2008</td>\n",
              "      <td>WD</td>\n",
              "      <td>Normal</td>\n",
              "      <td>250000</td>\n",
              "      <td>1</td>\n",
              "    </tr>\n",
              "    <tr>\n",
              "      <th>...</th>\n",
              "      <td>...</td>\n",
              "      <td>...</td>\n",
              "      <td>...</td>\n",
              "      <td>...</td>\n",
              "      <td>...</td>\n",
              "      <td>...</td>\n",
              "      <td>...</td>\n",
              "      <td>...</td>\n",
              "      <td>...</td>\n",
              "      <td>...</td>\n",
              "      <td>...</td>\n",
              "      <td>...</td>\n",
              "      <td>...</td>\n",
              "      <td>...</td>\n",
              "      <td>...</td>\n",
              "      <td>...</td>\n",
              "      <td>...</td>\n",
              "      <td>...</td>\n",
              "      <td>...</td>\n",
              "      <td>...</td>\n",
              "      <td>...</td>\n",
              "    </tr>\n",
              "    <tr>\n",
              "      <th>1455</th>\n",
              "      <td>1456</td>\n",
              "      <td>60</td>\n",
              "      <td>RL</td>\n",
              "      <td>62.0</td>\n",
              "      <td>7917</td>\n",
              "      <td>Pave</td>\n",
              "      <td>Reg</td>\n",
              "      <td>Lvl</td>\n",
              "      <td>AllPub</td>\n",
              "      <td>Inside</td>\n",
              "      <td>...</td>\n",
              "      <td>0</td>\n",
              "      <td>0</td>\n",
              "      <td>0</td>\n",
              "      <td>0</td>\n",
              "      <td>8</td>\n",
              "      <td>2007</td>\n",
              "      <td>WD</td>\n",
              "      <td>Normal</td>\n",
              "      <td>175000</td>\n",
              "      <td>1</td>\n",
              "    </tr>\n",
              "    <tr>\n",
              "      <th>1456</th>\n",
              "      <td>1457</td>\n",
              "      <td>20</td>\n",
              "      <td>RL</td>\n",
              "      <td>85.0</td>\n",
              "      <td>13175</td>\n",
              "      <td>Pave</td>\n",
              "      <td>Reg</td>\n",
              "      <td>Lvl</td>\n",
              "      <td>AllPub</td>\n",
              "      <td>Inside</td>\n",
              "      <td>...</td>\n",
              "      <td>0</td>\n",
              "      <td>0</td>\n",
              "      <td>0</td>\n",
              "      <td>0</td>\n",
              "      <td>2</td>\n",
              "      <td>2010</td>\n",
              "      <td>WD</td>\n",
              "      <td>Normal</td>\n",
              "      <td>210000</td>\n",
              "      <td>1</td>\n",
              "    </tr>\n",
              "    <tr>\n",
              "      <th>1457</th>\n",
              "      <td>1458</td>\n",
              "      <td>70</td>\n",
              "      <td>RL</td>\n",
              "      <td>66.0</td>\n",
              "      <td>9042</td>\n",
              "      <td>Pave</td>\n",
              "      <td>Reg</td>\n",
              "      <td>Lvl</td>\n",
              "      <td>AllPub</td>\n",
              "      <td>Inside</td>\n",
              "      <td>...</td>\n",
              "      <td>0</td>\n",
              "      <td>0</td>\n",
              "      <td>0</td>\n",
              "      <td>2500</td>\n",
              "      <td>5</td>\n",
              "      <td>2010</td>\n",
              "      <td>WD</td>\n",
              "      <td>Normal</td>\n",
              "      <td>266500</td>\n",
              "      <td>2</td>\n",
              "    </tr>\n",
              "    <tr>\n",
              "      <th>1458</th>\n",
              "      <td>1459</td>\n",
              "      <td>20</td>\n",
              "      <td>RL</td>\n",
              "      <td>68.0</td>\n",
              "      <td>9717</td>\n",
              "      <td>Pave</td>\n",
              "      <td>Reg</td>\n",
              "      <td>Lvl</td>\n",
              "      <td>AllPub</td>\n",
              "      <td>Inside</td>\n",
              "      <td>...</td>\n",
              "      <td>0</td>\n",
              "      <td>0</td>\n",
              "      <td>0</td>\n",
              "      <td>0</td>\n",
              "      <td>4</td>\n",
              "      <td>2010</td>\n",
              "      <td>WD</td>\n",
              "      <td>Normal</td>\n",
              "      <td>142125</td>\n",
              "      <td>0</td>\n",
              "    </tr>\n",
              "    <tr>\n",
              "      <th>1459</th>\n",
              "      <td>1460</td>\n",
              "      <td>20</td>\n",
              "      <td>RL</td>\n",
              "      <td>75.0</td>\n",
              "      <td>9937</td>\n",
              "      <td>Pave</td>\n",
              "      <td>Reg</td>\n",
              "      <td>Lvl</td>\n",
              "      <td>AllPub</td>\n",
              "      <td>Inside</td>\n",
              "      <td>...</td>\n",
              "      <td>0</td>\n",
              "      <td>0</td>\n",
              "      <td>0</td>\n",
              "      <td>0</td>\n",
              "      <td>6</td>\n",
              "      <td>2008</td>\n",
              "      <td>WD</td>\n",
              "      <td>Normal</td>\n",
              "      <td>147500</td>\n",
              "      <td>0</td>\n",
              "    </tr>\n",
              "  </tbody>\n",
              "</table>\n",
              "<p>1460 rows × 78 columns</p>\n",
              "</div>"
            ],
            "text/plain": [
              "        Id  MSSubClass MSZoning  LotFrontage  LotArea Street LotShape  \\\n",
              "0        1          60       RL         65.0     8450   Pave      Reg   \n",
              "1        2          20       RL         80.0     9600   Pave      Reg   \n",
              "2        3          60       RL         68.0    11250   Pave      IR1   \n",
              "3        4          70       RL         60.0     9550   Pave      IR1   \n",
              "4        5          60       RL         84.0    14260   Pave      IR1   \n",
              "...    ...         ...      ...          ...      ...    ...      ...   \n",
              "1455  1456          60       RL         62.0     7917   Pave      Reg   \n",
              "1456  1457          20       RL         85.0    13175   Pave      Reg   \n",
              "1457  1458          70       RL         66.0     9042   Pave      Reg   \n",
              "1458  1459          20       RL         68.0     9717   Pave      Reg   \n",
              "1459  1460          20       RL         75.0     9937   Pave      Reg   \n",
              "\n",
              "     LandContour Utilities LotConfig  ... 3SsnPorch ScreenPorch PoolArea  \\\n",
              "0            Lvl    AllPub    Inside  ...         0           0        0   \n",
              "1            Lvl    AllPub       FR2  ...         0           0        0   \n",
              "2            Lvl    AllPub    Inside  ...         0           0        0   \n",
              "3            Lvl    AllPub    Corner  ...         0           0        0   \n",
              "4            Lvl    AllPub       FR2  ...         0           0        0   \n",
              "...          ...       ...       ...  ...       ...         ...      ...   \n",
              "1455         Lvl    AllPub    Inside  ...         0           0        0   \n",
              "1456         Lvl    AllPub    Inside  ...         0           0        0   \n",
              "1457         Lvl    AllPub    Inside  ...         0           0        0   \n",
              "1458         Lvl    AllPub    Inside  ...         0           0        0   \n",
              "1459         Lvl    AllPub    Inside  ...         0           0        0   \n",
              "\n",
              "     MiscVal MoSold YrSold  SaleType  SaleCondition  SalePrice  \\\n",
              "0          0      2   2008        WD         Normal     208500   \n",
              "1          0      5   2007        WD         Normal     181500   \n",
              "2          0      9   2008        WD         Normal     223500   \n",
              "3          0      2   2006        WD        Abnorml     140000   \n",
              "4          0     12   2008        WD         Normal     250000   \n",
              "...      ...    ...    ...       ...            ...        ...   \n",
              "1455       0      8   2007        WD         Normal     175000   \n",
              "1456       0      2   2010        WD         Normal     210000   \n",
              "1457    2500      5   2010        WD         Normal     266500   \n",
              "1458       0      4   2010        WD         Normal     142125   \n",
              "1459       0      6   2008        WD         Normal     147500   \n",
              "\n",
              "      SalePriceCategory  \n",
              "0                     1  \n",
              "1                     1  \n",
              "2                     1  \n",
              "3                     0  \n",
              "4                     1  \n",
              "...                 ...  \n",
              "1455                  1  \n",
              "1456                  1  \n",
              "1457                  2  \n",
              "1458                  0  \n",
              "1459                  0  \n",
              "\n",
              "[1460 rows x 78 columns]"
            ]
          },
          "execution_count": 13,
          "metadata": {},
          "output_type": "execute_result"
        }
      ],
      "source": [
        "# Define conditions for categorizing SalePrice\n",
        "conditions = [\n",
        "    (df['SalePrice'] < 150000),\n",
        "    (df['SalePrice'] >= 150000) & (df['SalePrice'] <= 250000),\n",
        "    (df['SalePrice'] > 250000)\n",
        "]\n",
        "\n",
        "# Define labels for the categories\n",
        "labels = [0, 1, 2]\n",
        "\n",
        "# Create a new column 'SalePriceCategory' based on the conditions and labels\n",
        "df['SalePriceCategory'] = np.select(conditions, labels)\n",
        "\n",
        "df"
      ]
    },
    {
      "cell_type": "markdown",
      "metadata": {
        "id": "tFgS5OUqEqHU"
      },
      "source": [
        "### Encoding"
      ]
    },
    {
      "cell_type": "code",
      "execution_count": 14,
      "metadata": {
        "id": "MjWLQJHSEmqQ"
      },
      "outputs": [],
      "source": [
        "# Columns to encode, separated by feature category\n",
        "nominalFeatures = ['MSZoning', 'Street', 'LotShape', 'LandContour', 'Utilities', 'LotConfig',\n",
        "                    'LandSlope', 'Neighborhood', 'Condition1', 'Condition2', 'BldgType', 'HouseStyle',\n",
        "                    'RoofStyle', 'RoofMatl', 'Exterior1st', 'Exterior2nd', 'MasVnrType', 'Foundation',\n",
        "                    'Heating', 'CentralAir', 'Electrical', 'GarageType', 'SaleType',\n",
        "                    'SaleCondition','PavedDrive']\n",
        "\n",
        "ordinalFeatures = ['ExterQual', 'ExterCond', 'BsmtQual', 'BsmtCond', 'HeatingQC', 'KitchenQual','FireplaceQu',\n",
        "                    'GarageQual', 'GarageCond']\n",
        "\n",
        "otherOrdinalFeatures = ['BsmtExposure', 'BsmtFinType1', 'BsmtFinType2', 'Functional', 'GarageFinish']"
      ]
    },
    {
      "cell_type": "code",
      "execution_count": 15,
      "metadata": {
        "id": "mEdhATWcEtDg"
      },
      "outputs": [],
      "source": [
        "# Convert nominal features into dummy variables\n",
        "df = pd.get_dummies(df, columns = nominalFeatures)"
      ]
    },
    {
      "cell_type": "code",
      "execution_count": 16,
      "metadata": {
        "id": "mFR6IQpkEuyU"
      },
      "outputs": [],
      "source": [
        "# Define ordinal categories for each ordinal feature\n",
        "ordinalCategories = [['None', 'Po', 'Fa', 'TA', 'Gd', 'Ex'] for _ in ordinalFeatures]\n",
        "\n",
        "# Create an ordinal encoder\n",
        "ordinalEncoder = OrdinalEncoder(categories=ordinalCategories)\n",
        "\n",
        "# Fit and transform ordinal features\n",
        "ordinalEncoded = ordinalEncoder.fit_transform(df[ordinalFeatures])\n",
        "\n",
        "# Update dataframe with ordinal encoded features\n",
        "for i, feature in enumerate(ordinalFeatures):\n",
        "    df[feature] = ordinalEncoded[:, i]"
      ]
    },
    {
      "cell_type": "code",
      "execution_count": 17,
      "metadata": {
        "id": "621Y7Wu6EwPr"
      },
      "outputs": [],
      "source": [
        "# Define encoding categories for each other ordinal feature\n",
        "encodingCategories = [\n",
        "    ['None', 'No', 'Mn', 'Av', 'Gd'],  # BsmtExposure\n",
        "    ['None', 'Unf', 'LwQ', 'Rec', 'BLQ', 'ALQ', 'GLQ'],  # BsmtFinType1\n",
        "    ['None', 'Unf', 'LwQ', 'Rec', 'BLQ', 'ALQ', 'GLQ'],  # BsmtFinType2\n",
        "    ['Sev', 'Maj2', 'Maj1', 'Mod', 'Min2', 'Min1', 'Typ'], # Functional\n",
        "    ['None', 'Unf', 'RFn', 'Fin']  # GarageFinish\n",
        "]\n",
        "\n",
        "# Create an ordinal encoder\n",
        "ordinalEncoder = OrdinalEncoder(categories=encodingCategories)\n",
        "\n",
        "# Fit and transform other ordinal features\n",
        "ordinalEncoded = ordinalEncoder.fit_transform(df[otherOrdinalFeatures])\n",
        "\n",
        "# Update dataframe with ordinal encoded features\n",
        "for i, feature in enumerate(otherOrdinalFeatures):\n",
        "    df[feature] = ordinalEncoded[:, i]"
      ]
    },
    {
      "cell_type": "markdown",
      "metadata": {
        "id": "b8fZj4fZE_Jj"
      },
      "source": [
        "### Splitting DataSet"
      ]
    },
    {
      "cell_type": "code",
      "execution_count": 18,
      "metadata": {
        "id": "eoNd1vsLE8Xl"
      },
      "outputs": [],
      "source": [
        "# Create a copy of the dataframe\n",
        "df_cp = df.copy()\n",
        "\n",
        "# Remove SalePrice from the dataframe\n",
        "df_cp.pop('SalePrice')\n",
        "\n",
        "# Separate target variable 'SalePriceCategory' from features\n",
        "y = df_cp.pop('SalePriceCategory')\n",
        "X = df_cp"
      ]
    },
    {
      "cell_type": "code",
      "execution_count": 19,
      "metadata": {
        "id": "pn3jiq6sFE-P"
      },
      "outputs": [],
      "source": [
        "# Split the data into training and testing sets\n",
        "X_train, X_test, y_train, y_test = train_test_split(X, y, test_size=0.2, train_size=0.8, random_state=random_state)"
      ]
    },
    {
      "cell_type": "code",
      "execution_count": 20,
      "metadata": {
        "colab": {
          "base_uri": "https://localhost:8080/"
        },
        "id": "uD19B-McFGwd",
        "outputId": "70334c49-c143-4189-f05b-85d766ed4ffd"
      },
      "outputs": [
        {
          "name": "stdout",
          "output_type": "stream",
          "text": [
            "(1168, 225)\n",
            "(292, 225)\n"
          ]
        }
      ],
      "source": [
        "print(X_train.shape)\n",
        "print(X_test.shape)"
      ]
    },
    {
      "cell_type": "code",
      "execution_count": 21,
      "metadata": {
        "colab": {
          "base_uri": "https://localhost:8080/"
        },
        "id": "KvgJjCj2GXXi",
        "outputId": "b8ea660a-6502-447e-b76c-11ee4254c629"
      },
      "outputs": [
        {
          "name": "stdout",
          "output_type": "stream",
          "text": [
            "<class 'pandas.core.frame.DataFrame'>\n",
            "Index: 1168 entries, 254 to 1126\n",
            "Columns: 225 entries, Id to PavedDrive_Y\n",
            "dtypes: bool(174), float64(17), int64(34)\n",
            "memory usage: 673.0 KB\n"
          ]
        }
      ],
      "source": [
        "X_train.info()"
      ]
    },
    {
      "cell_type": "code",
      "execution_count": 22,
      "metadata": {
        "colab": {
          "base_uri": "https://localhost:8080/"
        },
        "id": "QpsOrtVyGaD3",
        "outputId": "69e81bc8-bbea-4482-8daa-4cdcf8b9b909"
      },
      "outputs": [
        {
          "name": "stdout",
          "output_type": "stream",
          "text": [
            "<class 'pandas.core.frame.DataFrame'>\n",
            "Index: 292 entries, 892 to 722\n",
            "Columns: 225 entries, Id to PavedDrive_Y\n",
            "dtypes: bool(174), float64(17), int64(34)\n",
            "memory usage: 168.2 KB\n"
          ]
        }
      ],
      "source": [
        "X_test.info()"
      ]
    },
    {
      "cell_type": "markdown",
      "metadata": {
        "id": "8S8K-J6zCDLR"
      },
      "source": [
        "### Feature Standarization"
      ]
    },
    {
      "cell_type": "code",
      "execution_count": 23,
      "metadata": {
        "id": "3qoQn7ePCHXK"
      },
      "outputs": [],
      "source": [
        "# Scale the features in the training set\n",
        "sc = StandardScaler()\n",
        "X_train = sc.fit_transform(X_train)\n",
        "\n",
        "# Scale the features in the test set\n",
        "X_test = sc.transform(X_test)"
      ]
    },
    {
      "cell_type": "markdown",
      "metadata": {},
      "source": [
        "Los modelos de Máquinas de Vectores de Soporte (SVM) tienden a ser sensibles a datos ruidosos y valores atípicos, ya que estos pueden afectar la posición y la orientación del límite de decisión. En el contexto de este problema, se ha observado a través del análisis exploratorio que los datos, especialmente la variable objetivo 'SalePrice' que a su vez influye en la generación de variables binarias para este modelo, presenta múltiples valores atípicos.\n",
        "\n",
        "El uso de Standar Scaling, que estandariza las características al eliminar la media y escalarlas a la varianza unitaria, es una estrategia común para mitigar el impacto de los valores atípicos en los modelos SVM. Al aplicar esta técnica, se logra que todas las características contribuyan de manera equitativa al modelo."
      ]
    },
    {
      "cell_type": "markdown",
      "metadata": {},
      "source": [
        "## SVM Models"
      ]
    },
    {
      "cell_type": "markdown",
      "metadata": {},
      "source": [
        "### Initial Iteration - Testing Multiple Kernels and Parameters (Classification)"
      ]
    },
    {
      "cell_type": "code",
      "execution_count": 24,
      "metadata": {},
      "outputs": [
        {
          "name": "stdout",
          "output_type": "stream",
          "text": [
            "Test Accuracy: 0.8698630136986302\n",
            "Train Accuracy: 0.9306506849315068\n",
            "Best Parameters:\n",
            "C: 0.01\n"
          ]
        }
      ],
      "source": [
        "# Initialize Support Vector Classifier with linear kernel\n",
        "clf = SVC(kernel=\"linear\")\n",
        "\n",
        "# Fit the classifier to the training data\n",
        "_ = clf.fit(X_train, y_train)\n",
        "\n",
        "# Define a dictionary of parameters for grid search\n",
        "param_grid = {\n",
        "    'C': (0.01, 0.1, 1, 5, 16, 32)  # Values for regularization parameter C\n",
        "}\n",
        "\n",
        "# Initialize GridSearchCV with the classifier, parameter grid, number of jobs, and cross-validation folds\n",
        "grid_search_linear = GridSearchCV(clf, param_grid=param_grid, n_jobs=2, cv=10)\n",
        "\n",
        "# Fit GridSearchCV to the training data\n",
        "grid_search_linear.fit(X_train, y_train)\n",
        "\n",
        "# Calculate accuracy scores on both the test and train data\n",
        "accuracy_test = grid_search_linear.score(X_test, y_test)\n",
        "accuracy_train = grid_search_linear.score(X_train, y_train)\n",
        "\n",
        "# Print the accuracy scores\n",
        "print(\"Test Accuracy:\", accuracy_test)\n",
        "print(\"Train Accuracy:\", accuracy_train)\n",
        "\n",
        "# Print the best parameters found by GridSearchCV\n",
        "print(\"Best Parameters:\")\n",
        "for param, value in grid_search_linear.best_params_.items():\n",
        "    print(f\"{param}: {value}\")"
      ]
    },
    {
      "cell_type": "markdown",
      "metadata": {},
      "source": [
        "#### Results and Findings"
      ]
    },
    {
      "cell_type": "code",
      "execution_count": 25,
      "metadata": {},
      "outputs": [
        {
          "data": {
            "image/png": "[encoded data removed]",
            "text/plain": [
              "<Figure size 600x400 with 2 Axes>"
            ]
          },
          "metadata": {},
          "output_type": "display_data"
        }
      ],
      "source": [
        "# Generating predictions on the test data using the best model found by GridSearchCV\n",
        "y_pred = grid_search_linear.predict(X_test)\n",
        "\n",
        "# Calculating the confusion matrix using the true labels and predicted labels\n",
        "confusionMatrix = confusion_matrix(y_test, y_pred)\n",
        "\n",
        "# Initializing ConfusionMatrixDisplay with the confusion matrix\n",
        "cmDisplay = ConfusionMatrixDisplay(confusion_matrix=confusionMatrix)\n",
        "\n",
        "# Plotting the confusion matrix\n",
        "cmDisplay.plot()\n",
        "plt.show()"
      ]
    },
    {
      "cell_type": "markdown",
      "metadata": {},
      "source": [
        "- Para la clase 0 (casas económicas), se clasificaron correctamente 129 casos.\n",
        "- Para la clase 1 (casas de gama media), se clasificaron correctamente 91 casos.\n",
        "- Para la clase 2 (casas de gama alta), se clasificaron correctamente 34 casos.\n",
        "\n",
        "En cuanto a las equivocaciones del modelo, se puede observar lo siguiente en la matriz de confusión:\n",
        "- El modelo se equivocó más frecuentemente en la predicción de casas de gama alta (clase 2) y gama media (clase 1).\n",
        "- El modelo cometió menos equivocaciones en la predicción de casas de gama económica (clase 0)."
      ]
    },
    {
      "cell_type": "code",
      "execution_count": 26,
      "metadata": {},
      "outputs": [
        {
          "name": "stdout",
          "output_type": "stream",
          "text": [
            "Classification Report: \n",
            "              precision    recall  f1-score   support\n",
            "\n",
            "           0       0.92      0.93      0.92       139\n",
            "           1       0.80      0.87      0.83       105\n",
            "           2       0.89      0.71      0.79        48\n",
            "\n",
            "    accuracy                           0.87       292\n",
            "   macro avg       0.87      0.83      0.85       292\n",
            "weighted avg       0.87      0.87      0.87       292\n",
            "\n"
          ]
        }
      ],
      "source": [
        "# Classification report\n",
        "print(f'Classification Report: \\n{classification_report(y_test, y_pred)}')"
      ]
    },
    {
      "cell_type": "markdown",
      "metadata": {},
      "source": [
        "- Precisión:\n",
        "    - El 92% de las instancias predichas como clase 0 son realmente clase 0.\n",
        "    - El 89% de las instancias predichas como clase 2 son realmente clase 2.\n",
        "    - El 80% de las instancias predichas como clase 1 son realmente clase 1.\n",
        "\n",
        "- Recall:\n",
        "    - El 87% de las instancias que realmente son clase 1 son correctamente predichas como clase 1.\n",
        "    - El 93% de las instancias que realmente son clase 0 son correctamente predichas como clase 0.\n",
        "    - La clase 2 tiene el recall más bajo con un 0.71, sugiriendo que el 71% de las instancias que realmente son clase 2 son correctamente predichas como clase 2.\n",
        "\n",
        "- F1-score:\n",
        "    - La clase 0 tiene el F1-score más alto con un 0.92, seguido por la clase 1 con un 0.83 y la clase 2 con un 0.79.\n",
        "\n",
        "- Support: \n",
        "    - La clase 0 tiene el support más alto con 139, seguido por la clase 1 con 105 y la clase 2 con 48."
      ]
    },
    {
      "cell_type": "code",
      "execution_count": 27,
      "metadata": {},
      "outputs": [
        {
          "data": {
            "image/png": "[encoded data removed]",
            "text/plain": [
              "<Figure size 600x400 with 2 Axes>"
            ]
          },
          "metadata": {},
          "output_type": "display_data"
        }
      ],
      "source": [
        "# Generating predictions on the train data using the best model found by GridSearchCV\n",
        "y_pred = grid_search_linear.predict(X_train)\n",
        "\n",
        "# Calculating the confusion matrix using the true labels and predicted labels\n",
        "confusionMatrix = confusion_matrix(y_train, y_pred)\n",
        "cmDisplay = ConfusionMatrixDisplay(confusion_matrix=confusionMatrix)\n",
        "\n",
        "# Plotting the confusion matrix\n",
        "cmDisplay.plot()\n",
        "plt.show()"
      ]
    },
    {
      "cell_type": "markdown",
      "metadata": {},
      "source": [
        "- Para la clase 0 (casas económicas), se clasificaron correctamente 449 casos.\n",
        "- Para la clase 1 (casas de gama media), se clasificaron correctamente 492 casos.\n",
        "- Para la clase 2 (casas de gama alta), se clasificaron correctamente 146 casos.\n",
        "\n",
        "En cuanto a las equivocaciones del modelo, se puede observar lo siguiente en la matriz de confusión:\n",
        "- El modelo se equivocó más frecuentemente en la predicción de casas de gama media (clase 1).\n",
        "- El modelo cometió menos equivocaciones en la predicción de casas de gama alta (clase 2)."
      ]
    },
    {
      "cell_type": "code",
      "execution_count": 28,
      "metadata": {},
      "outputs": [
        {
          "name": "stdout",
          "output_type": "stream",
          "text": [
            "Classification Report: \n",
            "              precision    recall  f1-score   support\n",
            "\n",
            "           0       0.95      0.94      0.95       476\n",
            "           1       0.91      0.94      0.92       523\n",
            "           2       0.96      0.86      0.91       169\n",
            "\n",
            "    accuracy                           0.93      1168\n",
            "   macro avg       0.94      0.92      0.93      1168\n",
            "weighted avg       0.93      0.93      0.93      1168\n",
            "\n"
          ]
        }
      ],
      "source": [
        "# Classification report\n",
        "print(f'Classification Report: \\n{classification_report(y_train, y_pred)}')"
      ]
    },
    {
      "cell_type": "markdown",
      "metadata": {},
      "source": [
        "- Precisión:\n",
        "    - El 95% de las instancias predichas como clase 0 son realmente clase 0.\n",
        "    - El 96% de las instancias predichas como clase 2 son realmente clase 2.\n",
        "    - El 91% de las instancias predichas como clase 1 son realmente clase 1.\n",
        "\n",
        "- Recall:\n",
        "    - El 92% de las instancias que realmente son clase 1 son correctamente predichas como clase 1.\n",
        "    - El 95% de las instancias que realmente son clase 0 son correctamente predichas como clase 0.\n",
        "    - La clase 2 tiene el recall más bajo con un 0.91, sugiriendo que el 91% de las instancias que realmente son clase 2 son correctamente predichas como clase 2.\n",
        "\n",
        "- F1-score:\n",
        "    - La clase 0 tiene el F1-score más alto con un 0.95, seguido por la clase 1 con un 0.92 y la clase 2 con un 0.91.\n",
        "\n",
        "- Support: \n",
        "    - La clase 1 tiene el support más alto con 523, seguido por la clase 0 con 476 y la clase 2 con 169."
      ]
    },
    {
      "cell_type": "markdown",
      "metadata": {},
      "source": [
        "Basándonos en los resultados de las matrices de confusión, así como la precisión del modelo lineal, es más que claro que sufre de un nivel significativo de sobreajuste, con una precisión de 0.93 en el conjunto de entrenamiento y tan solo un 0.87 en el conjunto de datos de testeo. Esto sugiere que el modelo no se está acomplando debidamente a data no vista con anterioridad."
      ]
    },
    {
      "cell_type": "code",
      "execution_count": 29,
      "metadata": {},
      "outputs": [
        {
          "name": "stdout",
          "output_type": "stream",
          "text": [
            "Test Accuracy: 0.8527\n",
            "Train Accuracy: 0.9889\n",
            "Best Parameters:\n",
            "C: 16\n",
            "degree: 3\n"
          ]
        }
      ],
      "source": [
        "# Initialize Support Vector Classifier with polynomial kernel\n",
        "clf = SVC(kernel=\"poly\")\n",
        "\n",
        "# Fit the classifier to the training data\n",
        "clf.fit(X_train, y_train)\n",
        "\n",
        "# Define a dictionary of parameters for grid search\n",
        "param_grid = {\n",
        "    'C': [0.01, 0.1, 1, 5, 16, 32],  # Values for regularization parameter C\n",
        "    'degree': [2, 3, 5, 7]  # Values for polynomial degree\n",
        "}\n",
        "\n",
        "# Initialize GridSearchCV with the classifier, parameter grid, number of jobs, and cross-validation folds\n",
        "grid_search = GridSearchCV(clf, param_grid=param_grid, n_jobs=2, cv=10)\n",
        "\n",
        "# Fit GridSearchCV to the training data\n",
        "grid_search.fit(X_train, y_train)\n",
        "\n",
        "# Calculate accuracy score on the test and train data\n",
        "accuracy_test = grid_search.score(X_test, y_test)\n",
        "accuracy_train = grid_search.score(X_train, y_train)\n",
        "\n",
        "\n",
        "# Print the accuracy scores\n",
        "print(f\"Test Accuracy: {accuracy_test:.4f}\")\n",
        "print(f\"Train Accuracy: {accuracy_train:.4f}\")\n",
        "\n",
        "# Print the best parameters found by GridSearchCV\n",
        "print(\"Best Parameters:\")\n",
        "for param, value in grid_search.best_params_.items():\n",
        "    print(f\"{param}: {value}\")"
      ]
    },
    {
      "cell_type": "markdown",
      "metadata": {},
      "source": [
        "#### Results and Findings"
      ]
    },
    {
      "cell_type": "code",
      "execution_count": 30,
      "metadata": {},
      "outputs": [
        {
          "data": {
            "image/png": "[encoded data removed]",
            "text/plain": [
              "<Figure size 600x400 with 2 Axes>"
            ]
          },
          "metadata": {},
          "output_type": "display_data"
        }
      ],
      "source": [
        "# Generating predictions on the test data using the best model found by GridSearchCV\n",
        "y_pred = grid_search.predict(X_test)\n",
        "\n",
        "# Calculating the confusion matrix using the true labels and predicted labels\n",
        "confusionMatrix = confusion_matrix(y_test, y_pred)\n",
        "\n",
        "# Initializing ConfusionMatrixDisplay with the confusion matrix\n",
        "cmDisplay = ConfusionMatrixDisplay(confusion_matrix=confusionMatrix)\n",
        "\n",
        "# Plotting the confusion matrix\n",
        "cmDisplay.plot()\n",
        "plt.show()"
      ]
    },
    {
      "cell_type": "markdown",
      "metadata": {},
      "source": [
        "- Para la clase 0 (casas económicas), se clasificaron correctamente 125 casos.\n",
        "- Para la clase 1 (casas de gama media), se clasificaron correctamente 92 casos.\n",
        "- Para la clase 2 (casas de gama alta), se clasificaron correctamente 32 casos.\n",
        "\n",
        "En cuanto a las equivocaciones del modelo, se puede observar lo siguiente en la matriz de confusión:\n",
        "- El modelo se equivocó más frecuentemente en la predicción de casas de gama alta (clase 2)\n",
        "- El modelo cometió menos equivocaciones en la predicción de casas de gama media (clase 1)."
      ]
    },
    {
      "cell_type": "code",
      "execution_count": 31,
      "metadata": {},
      "outputs": [
        {
          "name": "stdout",
          "output_type": "stream",
          "text": [
            "Classification Report: \n",
            "              precision    recall  f1-score   support\n",
            "\n",
            "           0       0.91      0.90      0.91       139\n",
            "           1       0.76      0.88      0.81       105\n",
            "           2       0.94      0.67      0.78        48\n",
            "\n",
            "    accuracy                           0.85       292\n",
            "   macro avg       0.87      0.81      0.83       292\n",
            "weighted avg       0.86      0.85      0.85       292\n",
            "\n"
          ]
        }
      ],
      "source": [
        "# Classification report\n",
        "print(f'Classification Report: \\n{classification_report(y_test, y_pred)}')"
      ]
    },
    {
      "cell_type": "markdown",
      "metadata": {},
      "source": [
        "- Precisión:\n",
        "    - El 91% de las instancias predichas como clase 0 son realmente clase 0.\n",
        "    - El 94% de las instancias predichas como clase 2 son realmente clase 2.\n",
        "    - El 76% de las instancias predichas como clase 1 son realmente clase 1.\n",
        "\n",
        "- Recall:\n",
        "    - La clase 1 tiene el recall más alto con un 0.88, lo que indica que el 88% de las instancias que realmente son clase 1 son correctamente predichas como clase 1.\n",
        "    - La clase 0 tiene un recall de 0.90, lo que significa que el 90% de las instancias que realmente son clase 0 son correctamente predichas como clase 0.\n",
        "    - La clase 2 tiene el recall más bajo con un 0.67, sugiriendo que el 67% de las instancias que realmente son clase 2 son correctamente predichas como clase 2.\n",
        "\n",
        "- F1-score:\n",
        "    - La clase 0 tiene el F1-score más alto con un 0.91, seguido por la clase 1 con un 0.81 y la clase 2 con un 0.78.\n",
        "\n",
        "- Support: \n",
        "    - La clase 0 tiene el support más alto con 139, seguido por la clase 1 con 105 y la clase 2 con 48."
      ]
    },
    {
      "cell_type": "markdown",
      "metadata": {},
      "source": [
        "Parece que hay un desequilibrio de clases en el conjunto de datos, como lo indican los diferentes valores de support para cada clase. Además, las métricas de promedio ponderado (precisión, recall y F1-score) son ligeramente más bajas que las métricas de promedio macro. Esto sugiere que el rendimiento del modelo está siendo influenciado más por las clases más grandes (0 y 1) debido a la ponderación basada en el support. A grandes rasgos, está claro que el modelo tiene problemas identificando las casas de gama alta dado el desbalance."
      ]
    },
    {
      "cell_type": "code",
      "execution_count": 32,
      "metadata": {},
      "outputs": [
        {
          "data": {
            "image/png": "[encoded data removed]",
            "text/plain": [
              "<Figure size 600x400 with 2 Axes>"
            ]
          },
          "metadata": {},
          "output_type": "display_data"
        }
      ],
      "source": [
        "# Generating predictions on the train data using the best model found by GridSearchCV\n",
        "y_pred = grid_search.predict(X_train)\n",
        "\n",
        "# Calculating the confusion matrix using the true labels and predicted labels\n",
        "confusionMatrix = confusion_matrix(y_train, y_pred)\n",
        "cmDisplay = ConfusionMatrixDisplay(confusion_matrix=confusionMatrix)\n",
        "\n",
        "# Plotting the confusion matrix\n",
        "cmDisplay.plot()\n",
        "plt.show()"
      ]
    },
    {
      "cell_type": "markdown",
      "metadata": {},
      "source": [
        "- Para la clase 0 (casas económicas), se clasificaron correctamente 475 casos.\n",
        "- Para la clase 1 (casas de gama media), se clasificaron correctamente 519 casos.\n",
        "- Para la clase 2 (casas de gama alta), se clasificaron correctamente 163 casos.\n",
        "\n",
        "En cuanto a las equivocaciones del modelo, se puede observar lo siguiente en la matriz de confusión:\n",
        "- El modelo se equivocó más frecuentemente en la predicción de casas de gama alta (clase 2).\n",
        "- El modelo cometió menos equivocaciones en la predicción de casas de gama económica (clase 0)."
      ]
    },
    {
      "cell_type": "code",
      "execution_count": 33,
      "metadata": {},
      "outputs": [
        {
          "name": "stdout",
          "output_type": "stream",
          "text": [
            "Classification Report: \n",
            "              precision    recall  f1-score   support\n",
            "\n",
            "           0       0.99      0.99      0.99       476\n",
            "           1       0.98      0.99      0.99       523\n",
            "           2       0.99      0.96      0.98       169\n",
            "\n",
            "    accuracy                           0.99      1168\n",
            "   macro avg       0.99      0.98      0.99      1168\n",
            "weighted avg       0.99      0.99      0.99      1168\n",
            "\n"
          ]
        }
      ],
      "source": [
        "# Classification report\n",
        "print(f'Classification Report: \\n{classification_report(y_train, y_pred)}')"
      ]
    },
    {
      "cell_type": "markdown",
      "metadata": {},
      "source": [
        "- Precisión:\n",
        "    - El 99% de las instancias predichas como clase 0 son realmente clase 0.\n",
        "    - El 99% de las instancias predichas como clase 1 son realmente clase 1.\n",
        "    - El 98% de las instancias predichas como clase 2 son realmente clase 2.\n",
        "\n",
        "- Recall:\n",
        "    - El 99% de las instancias que realmente son clase 1 son correctamente predichas como clase 0.\n",
        "    - El 99% de las instancias que realmente son clase 0 son correctamente predichas como clase 1.\n",
        "    - El 96% de las instancias que realmente son clase 2 son correctamente predichas como clase 2.\n",
        "\n",
        "- F1-score:\n",
        "    - Las clases 0 y 1 tienen el F1-score más alto con un 0.99, seguidos por la clase 2 con un 0.98.\n",
        "\n",
        "- Support: \n",
        "    - La clase 1 tiene el support más alto con 523, seguido por la clase 1 con 476 y la clase 2 con 169."
      ]
    },
    {
      "cell_type": "markdown",
      "metadata": {},
      "source": [
        "Nuevamente se muestra el desequilibrio de clases en el conjunto de datos, como lo indican los diferentes valores de support para cada clase. También se observa un sobreajuste demasiado elevado, al comparar los resultados de este conjunto de datos con el conjunto de datos de prueba."
      ]
    },
    {
      "cell_type": "code",
      "execution_count": 34,
      "metadata": {},
      "outputs": [
        {
          "name": "stdout",
          "output_type": "stream",
          "text": [
            "Test Accuracy: 0.8595890410958904\n",
            "Train Accuracy: 0.8955479452054794\n",
            "Best Parameters:\n",
            "C: 32\n",
            "gamma: 2e-05\n"
          ]
        }
      ],
      "source": [
        "# Initialize Support Vector Classifier with RBF kernel\n",
        "clf = SVC(kernel=\"rbf\")\n",
        "_ = clf.fit(X_train, y_train)\n",
        "\n",
        "# Define a dictionary of parameters for grid search\n",
        "param_grid = {\n",
        "    'C': (0.01, 0.1, 1, 5, 16, 32),  # Values for regularization parameter C\n",
        "    'gamma': (0.0000000002, 0.00002, 0.01, 0.1, 20, 200)  # Values for gamma\n",
        "}\n",
        "\n",
        "# Initialize GridSearchCV with the classifier, parameter grid, number of jobs, and cross-validation folds\n",
        "grid_search_rbf = GridSearchCV(clf, param_grid=param_grid, n_jobs=2, cv=10)\n",
        "\n",
        "# Fit GridSearchCV to the training data\n",
        "grid_search_rbf.fit(X_train, y_train)\n",
        "\n",
        "# Calculate accuracy scores on both the test and train data\n",
        "accuracy_test = grid_search_rbf.score(X_test, y_test)\n",
        "accuracy_train = grid_search_rbf.score(X_train, y_train)\n",
        "\n",
        "# Print the accuracy scores\n",
        "print(\"Test Accuracy:\", accuracy_test)\n",
        "print(\"Train Accuracy:\", accuracy_train)\n",
        "\n",
        "# Print the best parameters found by GridSearchCV\n",
        "print(\"Best Parameters:\")\n",
        "for param, value in grid_search_rbf.best_params_.items():\n",
        "    print(f\"{param}: {value}\")"
      ]
    },
    {
      "cell_type": "markdown",
      "metadata": {},
      "source": [
        "#### Results and Findings"
      ]
    },
    {
      "cell_type": "code",
      "execution_count": 35,
      "metadata": {},
      "outputs": [
        {
          "data": {
            "image/png": "[encoded data removed]",
            "text/plain": [
              "<Figure size 600x400 with 2 Axes>"
            ]
          },
          "metadata": {},
          "output_type": "display_data"
        }
      ],
      "source": [
        "# Generating predictions on the test data using the best model found by GridSearchCV\n",
        "y_pred = grid_search_rbf.predict(X_test)\n",
        "\n",
        "# Calculating the confusion matrix using the true labels and predicted labels\n",
        "confusionMatrix = confusion_matrix(y_test, y_pred)\n",
        "cmDisplay = ConfusionMatrixDisplay(confusion_matrix=confusionMatrix)\n",
        "\n",
        "# Plotting the confusion matrix\n",
        "cmDisplay.plot()\n",
        "plt.show()"
      ]
    },
    {
      "cell_type": "markdown",
      "metadata": {},
      "source": [
        "- Para la clase 0 (casas económicas), se clasificaron correctamente 131 casos.\n",
        "- Para la clase 1 (casas de gama media), se clasificaron correctamente 88 casos.\n",
        "- Para la clase 2 (casas de gama alta), se clasificaron correctamente 32 casos.\n",
        "\n",
        "En cuanto a las equivocaciones del modelo, se puede observar lo siguiente en la matriz de confusión:\n",
        "- El modelo se equivocó más frecuentemente en la predicción de casas de gama media (clase 1).\n",
        "- El modelo cometió menos equivocaciones en la predicción de casas de gama económica (clase 0)."
      ]
    },
    {
      "cell_type": "code",
      "execution_count": 36,
      "metadata": {},
      "outputs": [
        {
          "name": "stdout",
          "output_type": "stream",
          "text": [
            "Classification Report: \n",
            "              precision    recall  f1-score   support\n",
            "\n",
            "           0       0.90      0.94      0.92       139\n",
            "           1       0.79      0.84      0.81       105\n",
            "           2       0.91      0.67      0.77        48\n",
            "\n",
            "    accuracy                           0.86       292\n",
            "   macro avg       0.87      0.82      0.84       292\n",
            "weighted avg       0.86      0.86      0.86       292\n",
            "\n"
          ]
        }
      ],
      "source": [
        "# Classification report\n",
        "print(f'Classification Report: \\n{classification_report(y_test, y_pred)}')"
      ]
    },
    {
      "cell_type": "markdown",
      "metadata": {},
      "source": [
        "- Precisión:\n",
        "    - El 90% de las instancias predichas como clase 0 son realmente clase 0.\n",
        "    - El 79% de las instancias predichas como clase 1 son realmente clase 1.\n",
        "    - El 91% de las instancias predichas como clase 2 son realmente clase 2.\n",
        "\n",
        "- Recall:\n",
        "    - El 94% de las instancias que realmente son clase 1 son correctamente predichas como clase 0.\n",
        "    - El 84% de las instancias que realmente son clase 0 son correctamente predichas como clase 1.\n",
        "    - El 67% de las instancias que realmente son clase 2 son correctamente predichas como clase 2.\n",
        "\n",
        "- F1-score:\n",
        "    - La clase 0 tiene el F1-score más alto con un 0.92, seguido por la clase 1 con un 0.81 y la clase 2 con un 0.77.\n",
        "\n",
        "- Support: \n",
        "    - La clase 0 tiene el support más alto con 139, seguido por la clase 1 con 105 y la clase 2 con 48."
      ]
    },
    {
      "cell_type": "markdown",
      "metadata": {},
      "source": [
        "Otra vez, se evidencia que hay un gran desequilibrio de clases en el conjunto de datos, como lo indican los diferentes valores de support para cada clase. Además, las métricas de promedio ponderado (precisión, recall y F1-score) son ligeramente más bajas que las métricas de promedio macro. Esto sugiere que el rendimiento del modelo está siendo influenciado más por las clases más grandes (0 y 1) debido a la ponderación basada en el support. Este modelo también tiene problemas identificando las casas de gama alta dado el desbalance."
      ]
    },
    {
      "cell_type": "code",
      "execution_count": 37,
      "metadata": {},
      "outputs": [
        {
          "data": {
            "image/png": "[encoded data removed]",
            "text/plain": [
              "<Figure size 600x400 with 2 Axes>"
            ]
          },
          "metadata": {},
          "output_type": "display_data"
        }
      ],
      "source": [
        "# Generating predictions on the train data using the best model found by GridSearchCV\n",
        "y_pred = grid_search_rbf.predict(X_train)\n",
        "\n",
        "# Calculating the confusion matrix using the true labels and predicted labels\n",
        "confusionMatrix = confusion_matrix(y_train, y_pred)\n",
        "cmDisplay = ConfusionMatrixDisplay(confusion_matrix=confusionMatrix)\n",
        "\n",
        "# Plotting the confusion matrix\n",
        "cmDisplay.plot()\n",
        "plt.show()"
      ]
    },
    {
      "cell_type": "markdown",
      "metadata": {},
      "source": [
        "- Para la clase 0 (casas económicas), se clasificaron correctamente 449 casos.\n",
        "- Para la clase 1 (casas de gama media), se clasificaron correctamente 477 casos.\n",
        "- Para la clase 2 (casas de gama alta), se clasificaron correctamente 120 casos.\n",
        "\n",
        "En cuanto a las equivocaciones del modelo, se puede observar lo siguiente en la matriz de confusión:\n",
        "- El modelo se equivocó más frecuentemente en la predicción de casas de gama alta (clase 2).\n",
        "- El modelo cometió menos equivocaciones en la predicción de casas de gama económica (clase 0)."
      ]
    },
    {
      "cell_type": "code",
      "execution_count": 38,
      "metadata": {},
      "outputs": [
        {
          "name": "stdout",
          "output_type": "stream",
          "text": [
            "Classification Report: \n",
            "              precision    recall  f1-score   support\n",
            "\n",
            "           0       0.92      0.94      0.93       476\n",
            "           1       0.86      0.91      0.89       523\n",
            "           2       0.95      0.71      0.81       169\n",
            "\n",
            "    accuracy                           0.90      1168\n",
            "   macro avg       0.91      0.86      0.88      1168\n",
            "weighted avg       0.90      0.90      0.89      1168\n",
            "\n"
          ]
        }
      ],
      "source": [
        "# Classification report\n",
        "print(f'Classification Report: \\n{classification_report(y_train, y_pred)}')"
      ]
    },
    {
      "cell_type": "markdown",
      "metadata": {},
      "source": [
        "- Precisión:\n",
        "    - El 92% de las instancias predichas como clase 0 son realmente clase 0.\n",
        "    - El 86% de las instancias predichas como clase 1 son realmente clase 1.\n",
        "    - El 95% de las instancias predichas como clase 2 son realmente clase 2.\n",
        "\n",
        "- Recall:\n",
        "    - El 94% de las instancias que realmente son clase 1 son correctamente predichas como clase 0.\n",
        "    - El 91% de las instancias que realmente son clase 0 son correctamente predichas como clase 1.\n",
        "    - El 71% de las instancias que realmente son clase 2 son correctamente predichas como clase 2.\n",
        "\n",
        "- F1-score:\n",
        "    - La clase 0 tiene el F1-score más alto con un 0.93, seguido por la clase 1 con un 0.89 y la clase 2 con un 0.81.\n",
        "\n",
        "- Support: \n",
        "    - La clase 1 tiene el support más alto con 523, seguido por la clase 0 con 476 y la clase 2 con 169."
      ]
    },
    {
      "cell_type": "markdown",
      "metadata": {},
      "source": [
        "Basándonos en la precisión y las matrices de confusión del conjunto de datos de entrenamiento, podemos concluir que ambos modelos están experimentando sobreajuste. Esto se basa en la disparidad entre el rendimiento en el conjunto de datos de entrenamiento y el de prueba, donde el primero muestra un desempeño significativamente superior. Aunque está claro que el modelo que implementa el kernel 'poly' sufre de un grado de sobreajuste muy elevado, dado que su precisión general en el conjunto de entrenamiento es de 0.98 y de solo 0.85 en el de testeo. Para mitigar los efectos negativos del sobreajuste, sería beneficioso ajustar nuevamente los parámetros del modelo. Es importante tener en cuenta que valores muy altos de regularización (C) o muy bajos de gamma para el kernel rbf pueden contribuir al sobreajuste del modelo. Otro aspecto muy importante y que ya se ha mencionado es el gran desbalance de clases, para mejorar esto se podría optar a tener un control más fuerte en la cantidad de clases que se va a cada conjunto de datos a la hora de separar estos en prueba y entrenamiento."
      ]
    },
    {
      "cell_type": "code",
      "execution_count": 39,
      "metadata": {},
      "outputs": [
        {
          "name": "stdout",
          "output_type": "stream",
          "text": [
            "Test set accuracy: 0.8595890410958904\n",
            "Train set accuracy: 0.8707191780821918\n",
            "Best parameters:\n",
            "C: 20\n",
            "gamma: 2e-05\n"
          ]
        }
      ],
      "source": [
        "# Initialize Support Vector Classifier with RBF kernel\n",
        "clf = SVC(kernel=\"rbf\")\n",
        "_ = clf.fit(X_train, y_train)\n",
        "\n",
        "# Define a dictionary of parameters for grid search\n",
        "param_grid = {\n",
        "    'C': (0.01, 0.1, 1, 5, 10, 20),  # Values for regularization parameter C\n",
        "    'gamma': (0.00000002, 0.00002, 0.01, 0.1, 20, 200)  # Values for gamma\n",
        "}\n",
        "\n",
        "# Initialize GridSearchCV with the classifier, parameter grid, number of jobs, and cross-validation folds\n",
        "updated_grid_search_rbf = GridSearchCV(clf, param_grid=param_grid, n_jobs=2, cv=10)\n",
        "\n",
        "# Fit GridSearchCV to the training data\n",
        "updated_grid_search_rbf.fit(X_train, y_train)\n",
        "\n",
        "# Calculate accuracy scores on both the test and train data\n",
        "accuracy_test = updated_grid_search_rbf.score(X_test, y_test)\n",
        "accuracy_train = updated_grid_search_rbf.score(X_train, y_train)\n",
        "\n",
        "# Print the accuracy scores\n",
        "print(\"Test set accuracy:\", accuracy_test)\n",
        "print(\"Train set accuracy:\", accuracy_train)\n",
        "\n",
        "# Print the best parameters found by GridSearchCV\n",
        "print(\"Best parameters:\")\n",
        "for param, value in updated_grid_search_rbf.best_params_.items():\n",
        "    print(f\"{param}: {value}\")"
      ]
    },
    {
      "cell_type": "code",
      "execution_count": 40,
      "metadata": {},
      "outputs": [
        {
          "data": {
            "image/png": "[encoded data removed]",
            "text/plain": [
              "<Figure size 600x400 with 2 Axes>"
            ]
          },
          "metadata": {},
          "output_type": "display_data"
        }
      ],
      "source": [
        "# Generating predictions on the test data using the best model found by GridSearchCV\n",
        "y_pred = updated_grid_search_rbf.predict(X_test)\n",
        "\n",
        "# Calculating the confusion matrix using the true labels and predicted labels\n",
        "confusionMatrix = confusion_matrix(y_test, y_pred)\n",
        "cmDisplay = ConfusionMatrixDisplay(confusion_matrix=confusionMatrix)\n",
        "\n",
        "# Plotting the confusion matrix\n",
        "cmDisplay.plot()\n",
        "plt.show()"
      ]
    },
    {
      "cell_type": "markdown",
      "metadata": {},
      "source": [
        "- Para la clase 0 (casas económicas), se clasificaron correctamente 132 casos.\n",
        "- Para la clase 1 (casas de gama media), se clasificaron correctamente 91 casos.\n",
        "- Para la clase 2 (casas de gama alta), se clasificaron correctamente 28 casos.\n",
        "\n",
        "En cuanto a las equivocaciones del modelo, se puede observar lo siguiente en la matriz de confusión:\n",
        "- El modelo se equivocó más frecuentemente en la predicción de casas de gama alta (clase 2).\n",
        "- El modelo cometió menos equivocaciones en la predicción de casas de gama económica (clase 0)."
      ]
    },
    {
      "cell_type": "code",
      "execution_count": 41,
      "metadata": {},
      "outputs": [
        {
          "name": "stdout",
          "output_type": "stream",
          "text": [
            "Classification Report: \n",
            "              precision    recall  f1-score   support\n",
            "\n",
            "           0       0.90      0.95      0.93       139\n",
            "           1       0.77      0.87      0.82       105\n",
            "           2       1.00      0.58      0.74        48\n",
            "\n",
            "    accuracy                           0.86       292\n",
            "   macro avg       0.89      0.80      0.83       292\n",
            "weighted avg       0.87      0.86      0.86       292\n",
            "\n"
          ]
        }
      ],
      "source": [
        "# Classification report\n",
        "print(f'Classification Report: \\n{classification_report(y_test, y_pred)}')"
      ]
    },
    {
      "cell_type": "code",
      "execution_count": 42,
      "metadata": {},
      "outputs": [
        {
          "data": {
            "image/png": "[encoded data removed]",
            "text/plain": [
              "<Figure size 600x400 with 2 Axes>"
            ]
          },
          "metadata": {},
          "output_type": "display_data"
        }
      ],
      "source": [
        "# Generating predictions on the train data using the best model found by GridSearchCV\n",
        "y_pred = updated_grid_search_rbf.predict(X_train)\n",
        "\n",
        "# Calculating the confusion matrix using the true labels and predicted labels\n",
        "confusionMatrix = confusion_matrix(y_train, y_pred)\n",
        "cmDisplay = ConfusionMatrixDisplay(confusion_matrix=confusionMatrix)\n",
        "\n",
        "# Plotting the confusion matrix\n",
        "cmDisplay.plot()\n",
        "plt.show()"
      ]
    },
    {
      "cell_type": "markdown",
      "metadata": {},
      "source": [
        "- Para la clase 0 (casas económicas), se clasificaron correctamente 449 casos.\n",
        "- Para la clase 1 (casas de gama media), se clasificaron correctamente 467 casos.\n",
        "- Para la clase 2 (casas de gama alta), se clasificaron correctamente 101 casos.\n",
        "\n",
        "En cuanto a las equivocaciones del modelo, se puede observar lo siguiente en la matriz de confusión:\n",
        "- El modelo se equivocó más frecuentemente en la predicción de casas de gama alta (clase 2).\n",
        "- El modelo cometió menos equivocaciones en la predicción de casas de gama económica (clase 0)."
      ]
    },
    {
      "cell_type": "code",
      "execution_count": 43,
      "metadata": {},
      "outputs": [
        {
          "name": "stdout",
          "output_type": "stream",
          "text": [
            "Classification Report: \n",
            "              precision    recall  f1-score   support\n",
            "\n",
            "           0       0.89      0.94      0.92       476\n",
            "           1       0.83      0.89      0.86       523\n",
            "           2       0.97      0.60      0.74       169\n",
            "\n",
            "    accuracy                           0.87      1168\n",
            "   macro avg       0.90      0.81      0.84      1168\n",
            "weighted avg       0.88      0.87      0.87      1168\n",
            "\n"
          ]
        }
      ],
      "source": [
        "# Classification report\n",
        "print(f'Classification Report: \\n{classification_report(y_train, y_pred)}')"
      ]
    },
    {
      "cell_type": "markdown",
      "metadata": {},
      "source": [
        "Al reducir el valor máximo de regularización en los parámetros de búsqueda, se ha logrado mantener un rendimiento consistente en el conjunto de pruebas en comparación con la configuración previa. Sin embargo, se observa una disminución en la precisión del conjunto de entrenamiento. Esta diferencia en precisión entre ambos conjuntos es de solo 0.02, pero indica una posible reducción en el sobreajuste en comparación con los resultados obtenidos con anterioridad."
      ]
    },
    {
      "cell_type": "markdown",
      "metadata": {},
      "source": [
        "#### SVM Model Comparison"
      ]
    },
    {
      "cell_type": "code",
      "execution_count": 44,
      "metadata": {},
      "outputs": [
        {
          "name": "stdout",
          "output_type": "stream",
          "text": [
            "Model: SVM_16_poly\n",
            "Training Time:\n",
            "0.14578914642333984\n",
            "Accuracy:\n",
            "0.8527397260273972\n",
            "Confusion Matrix:\n",
            "[[125  13   1]\n",
            " [ 12  92   1]\n",
            " [  0  16  32]]\n",
            "Classification Report:\n",
            "              precision    recall  f1-score   support\n",
            "\n",
            "           0       0.91      0.90      0.91       139\n",
            "           1       0.76      0.88      0.81       105\n",
            "           2       0.94      0.67      0.78        48\n",
            "\n",
            "    accuracy                           0.85       292\n",
            "   macro avg       0.87      0.81      0.83       292\n",
            "weighted avg       0.86      0.85      0.85       292\n",
            "\n",
            "\n",
            "\n",
            "Model: SVM_0.01_linear\n",
            "Training Time:\n",
            "0.05199098587036133\n",
            "Accuracy:\n",
            "0.8698630136986302\n",
            "Confusion Matrix:\n",
            "[[129   9   1]\n",
            " [ 11  91   3]\n",
            " [  0  14  34]]\n",
            "Classification Report:\n",
            "              precision    recall  f1-score   support\n",
            "\n",
            "           0       0.92      0.93      0.92       139\n",
            "           1       0.80      0.87      0.83       105\n",
            "           2       0.89      0.71      0.79        48\n",
            "\n",
            "    accuracy                           0.87       292\n",
            "   macro avg       0.87      0.83      0.85       292\n",
            "weighted avg       0.87      0.87      0.87       292\n",
            "\n",
            "\n",
            "\n",
            "Model: SVM_32_rbf\n",
            "Training Time:\n",
            "0.08487582206726074\n",
            "Accuracy:\n",
            "0.8664383561643836\n",
            "Confusion Matrix:\n",
            "[[126  12   1]\n",
            " [ 10  93   2]\n",
            " [  1  13  34]]\n",
            "Classification Report:\n",
            "              precision    recall  f1-score   support\n",
            "\n",
            "           0       0.92      0.91      0.91       139\n",
            "           1       0.79      0.89      0.83       105\n",
            "           2       0.92      0.71      0.80        48\n",
            "\n",
            "    accuracy                           0.87       292\n",
            "   macro avg       0.88      0.83      0.85       292\n",
            "weighted avg       0.87      0.87      0.87       292\n",
            "\n",
            "\n",
            "\n"
          ]
        }
      ],
      "source": [
        "# Dictionary to store the results of model evaluations\n",
        "results = {}\n",
        "\n",
        "# List of SVM configurations to test\n",
        "svm_configs = [\n",
        "    {'C': 16, 'kernel': 'poly'},  # Configuration with poly kernel and C=16\n",
        "    {'C': 0.01, 'kernel': 'linear'},  # Configuration with linear kernel and C=0.01\n",
        "    {'C': 32, 'kernel': 'rbf'},     # Configuration with radial basis function (RBF) kernel and C=32\n",
        "]\n",
        "\n",
        "# Loop over each SVM configuration for training and evaluation\n",
        "for config in svm_configs:\n",
        "    # Initialize the SVM classifier with the specified configuration\n",
        "    clf = SVC(C=config['C'], kernel=config['kernel'])\n",
        "    \n",
        "    # Measure the time taken for training\n",
        "    start_time = time.time()\n",
        "    clf.fit(X_train, y_train)  # Train the classifier using the training data\n",
        "    end_time = time.time()\n",
        "    \n",
        "    # Make predictions on the test set\n",
        "    y_pred = clf.predict(X_test)\n",
        "    \n",
        "    # Compute evaluation metrics\n",
        "    accuracy = accuracy_score(y_test, y_pred)  # Compute accuracy\n",
        "    conf_matrix = confusion_matrix(y_test, y_pred)  # Compute confusion matrix\n",
        "    report = classification_report(y_test, y_pred)  # Generate classification report\n",
        "    \n",
        "    # Store the results in the dictionary\n",
        "    results[f\"SVM_{config['C']}_{config['kernel']}\"] = {\n",
        "        'Training Time': end_time - start_time,  # Training time for the current configuration\n",
        "        'Accuracy': accuracy,  # Accuracy score\n",
        "        'Confusion Matrix': conf_matrix,  # Confusion matrix\n",
        "        'Classification Report': report  # Classification report\n",
        "    }\n",
        "\n",
        "# Print the results for each model\n",
        "for model, metrics in results.items():\n",
        "    print(f\"Model: {model}\")  # Print the model name\n",
        "    for key, value in metrics.items():\n",
        "        print(f\"{key}:\")  # Print the metric name\n",
        "        if isinstance(value, np.ndarray):\n",
        "            print(value)  # Print the metric value (array)\n",
        "        else:\n",
        "            print(value)  # Print the metric value (non-array)\n",
        "    print(\"\\n\")  # Add a newline after printing metrics for each model"
      ]
    },
    {
      "cell_type": "markdown",
      "metadata": {},
      "source": [
        "Analizando los resultados obtenidos en las métricas previas de los modelos, se puede observar que en tiempo de entrenamiento el modelo lineal fue más rápido con un tiempo de 0.052 segundos. El modelo RBF obtuvo un tiempo total de 0.086 segundos y el modelo polinomial un tiempo de 0.145, siendo al modelo que le tomó más tiempo de entrenamiento.\n",
        "\n",
        "En cuanto a la precisión global, el modelo lineal también fue el que mejor métrica obtuvo con un 86.98%. Luego, se encuentra el modelo RBF con una buena precisión de 86.64% y por último el modelo polinomial con 85.27%. Lo anterior demuestra que el modelo lineal, en general, es más efectivo para clasificar correctamente las instancias del conjunto de prueba.\n",
        "\n",
        "Analizando la matriz de confusión, se observa con el **modelo polinomial** un equilibrio en la clasificación obteniendo:\n",
        "- 91% de precisión en la clasificación de casas económicas (clase 0), clasificando 125 casas correctamente.\n",
        "- 76% de precisión en la clasificación de casas de gama media (clase 1), clasificando 92 casas correctamente.\n",
        "- 94% de precisión en la clasificación de casas de gama alta (clase 2), clasificando 32 casas correctamente.\n",
        "\n",
        "El **modelo lineal** muestra mejoras significativas en la clasficación de la clase 0. Se obtuvo lo siguiente:\n",
        "- 92% de precisión en la clasificación de casas económicas (clase 0), clasificando 129 casas correctamente.\n",
        "- 80% de precisión en la clasificación de casas de gama media (clase 1), clasificando 91 casas correctamente.\n",
        "- 89% de precisión en la clasificación de casas de gama alta (clase 2), clasificando 34 casas correctamente.\n",
        "\n",
        "El **modelo RBF** no muestra mejoras significativas en la clasficación. Se obtuvo lo siguiente:\n",
        "- 92% de precisión en la clasificación de casas económicas (clase 0), clasificando 126 casas correctamente.\n",
        "- 79% de precisión en la clasificación de casas de gama media (clase 1), clasificando 93 casas correctamente.\n",
        "- 92% de precisión en la clasificación de casas de gama alta (clase 2), clasificando 34 casas correctamente.\n",
        "\n",
        "Otras de las métricas son el Recall y el F1-Score:\n",
        "- El modelo lineal ha mejorado la precisión y el recall en las clases 0 y 1 significativamente.\n",
        "- La clase 2, aunque tiene una alta precisión en ambos modelos, muestra una caída en recall en el modelo RBF, lo que indica que aunque las predicciones de la clase 2 que hace son correctas, está perdiendo muchas otras instancias reales de esta clase.\n",
        "\n",
        "En general, el modelo SVM lineal parece ser superior a los otros dos modelos (polinomual y kernel RBF) ofreciendo una mejor precisión general, mayor velocidad de entrenamiento y un mejor balance entre precisión y recall para la mayoría de las clases.\n",
        "\n",
        "Por otro lado, el modelo lineal tiene bastante sobreajuste por lo que no es el mejor modelo para este set de datos."
      ]
    },
    {
      "cell_type": "markdown",
      "metadata": {},
      "source": [
        "#### Comparison Between Algorithms\n",
        "\n",
        "A continuación se muestran las métricas importantes de cada uno, obtenido del notebook de cada hoja realizada anteriormente con el algoritmo respectivo.\n",
        "\n",
        "|                       | SVM (Kernel RBF)  | Decision trees | Random Forest | Naive Bayes |\n",
        "|-----------------------|---------------------|----------------|---------------|-------------|\n",
        "|   Precisión           |        0.87         |    0.79        |     0.82      |      0.67   |\n",
        "|   Tiempo de ejecución |        0.20        |    0.34        |     0.13      |      0.53   |\n",
        "\n",
        "\n",
        "Al comparar la eficiencia del modelo SVM con kernel RBF y otros algoritmos en hojas de trabajo pasadas utilizando la misma variable de respuesta, puede evidenciarse que el modelo SVM destaca en su precisión comparado con el resto. Es por ello que puede considerarse como el mejor para predecir y el más rápido en procesar los datos."
      ]
    },
    {
      "cell_type": "code",
      "execution_count": 45,
      "metadata": {},
      "outputs": [
        {
          "data": {
            "image/png": "[encoded data removed]",
            "text/plain": [
              "<Figure size 600x400 with 1 Axes>"
            ]
          },
          "metadata": {},
          "output_type": "display_data"
        }
      ],
      "source": [
        "# Data for the graph\n",
        "x_dataGraph = ['SVM (Kernel RBF)', 'Decision Tree', 'Random Forest', 'Naive Bayes']\n",
        "accuracyDataGraph = [0.87, 0.79, 0.82, 0.67]\n",
        "timeDataGraph = [0.20, 0.34, 0.13, 0.53]\n",
        "\n",
        "# Plot settings\n",
        "sns.barplot(x=x_dataGraph, y=accuracyDataGraph, hue=x_dataGraph, palette=\"viridis\")\n",
        "plt.title('Accuracy for Each Model', fontsize=14)\n",
        "plt.xlabel('Models', fontsize=11)\n",
        "plt.ylabel('Accuracy', fontsize=11)\n",
        "plt.ylim(0.60, 0.90)\n",
        "plt.grid(axis='y', linestyle='--', alpha=0.7)\n",
        "plt.xticks(fontsize=10)\n",
        "plt.yticks(fontsize=10)\n",
        "\n",
        "# Add accuracy values on top of the bars\n",
        "for i, v in enumerate(accuracyDataGraph):\n",
        "    plt.text(i, v + 0.005, str(v), ha='center', va='bottom', fontsize=12)\n",
        "\n",
        "plt.show()"
      ]
    },
    {
      "cell_type": "code",
      "execution_count": 46,
      "metadata": {},
      "outputs": [
        {
          "data": {
            "image/png": "[encoded data removed]",
            "text/plain": [
              "<Figure size 600x400 with 1 Axes>"
            ]
          },
          "metadata": {},
          "output_type": "display_data"
        }
      ],
      "source": [
        "# Plot settings\n",
        "sns.barplot(x=x_dataGraph, y=timeDataGraph, hue=x_dataGraph, palette=\"viridis\")\n",
        "plt.title('Time Taken for Each Model', fontsize=14)\n",
        "plt.xlabel('Models', fontsize=11)\n",
        "plt.ylabel('Time (seconds)', fontsize=11)\n",
        "plt.ylim(0.05, 0.60)\n",
        "plt.grid(axis='y', linestyle='--', alpha=0.7)\n",
        "plt.xticks(fontsize=10)\n",
        "plt.yticks(fontsize=10)\n",
        "\n",
        "# Add accuracy values on top of the bars\n",
        "for i, v in enumerate(timeDataGraph):\n",
        "    plt.text(i, v + 0.005, str(v), ha='center', va='bottom', fontsize=12)\n",
        "\n",
        "plt.show()"
      ]
    },
    {
      "cell_type": "markdown",
      "metadata": {},
      "source": [
        "### Second Iteration - Testing Multiple Parameters (Regression)"
      ]
    },
    {
      "cell_type": "markdown",
      "metadata": {},
      "source": [
        "#### Data Preprocessing"
      ]
    },
    {
      "cell_type": "code",
      "execution_count": 47,
      "metadata": {},
      "outputs": [],
      "source": [
        "# Create a copy of the dataframe\n",
        "df_cp = df.copy()\n",
        "\n",
        "# Remove SalePrice from the dataframe\n",
        "df_cp.pop('SalePriceCategory')\n",
        "\n",
        "# Separate target variable 'SalePrice' from features\n",
        "y = df_cp.pop('SalePrice')\n",
        "X = df_cp"
      ]
    },
    {
      "cell_type": "code",
      "execution_count": 48,
      "metadata": {},
      "outputs": [],
      "source": [
        "# Split the data into training and testing sets\n",
        "X_train, X_test, y_train, y_test = train_test_split(X, y, test_size=0.2, train_size=0.8, random_state=random_state)"
      ]
    },
    {
      "cell_type": "code",
      "execution_count": 49,
      "metadata": {},
      "outputs": [
        {
          "name": "stdout",
          "output_type": "stream",
          "text": [
            "(1168, 225)\n",
            "(292, 225)\n"
          ]
        }
      ],
      "source": [
        "print(X_train.shape)\n",
        "print(X_test.shape)"
      ]
    },
    {
      "cell_type": "code",
      "execution_count": 50,
      "metadata": {},
      "outputs": [],
      "source": [
        "# Scale the features in the training set\n",
        "sc = StandardScaler()\n",
        "X_train = sc.fit_transform(X_train)\n",
        "\n",
        "# Scale the features in the test set\n",
        "X_test = sc.transform(X_test)"
      ]
    },
    {
      "cell_type": "markdown",
      "metadata": {},
      "source": [
        "#### Regression Model"
      ]
    },
    {
      "cell_type": "code",
      "execution_count": 51,
      "metadata": {},
      "outputs": [
        {
          "name": "stderr",
          "output_type": "stream",
          "text": [
            "/opt/homebrew/lib/python3.11/site-packages/sklearn/model_selection/_split.py:737: UserWarning: The least populated class in y has only 1 members, which is less than n_splits=10.\n",
            "  warnings.warn(\n"
          ]
        },
        {
          "name": "stdout",
          "output_type": "stream",
          "text": [
            "Mean Squared Error (MSE): 1837721178.4623\n",
            "R-squared (R^2): 0.7604\n",
            "Root Mean Squared Error (RMSE): 42868.6503\n",
            "Best Parameters:\n",
            "C: 0.1\n",
            "gamma: 2e-08\n"
          ]
        }
      ],
      "source": [
        "import math\n",
        "\n",
        "# Initialize Support Vector Classifier with linear kernel\n",
        "clf = SVC(kernel=\"linear\")\n",
        "\n",
        "# Fit the classifier to the training data\n",
        "clf.fit(X_train, y_train)\n",
        "\n",
        "# Define a dictionary of parameters for grid search\n",
        "param_grid = {\n",
        "    'C': [0.01, 0.1, 1, 5, 16, 32],  # Values for regularization parameter C\n",
        "    'gamma': (0.00000002, 0.00002, 0.01, 0.1, 20, 200)  # Values for gamma\n",
        "}\n",
        "\n",
        "# Initialize GridSearchCV with the classifier, parameter grid, number of jobs, and cross-validation folds\n",
        "grid_search_reg = GridSearchCV(clf, param_grid=param_grid, n_jobs=2, cv=10)\n",
        "\n",
        "# Fit GridSearchCV to the training data\n",
        "grid_search_reg.fit(X_train, y_train)\n",
        "\n",
        "# Predict the target values for the test set\n",
        "y_pred = grid_search_reg.predict(X_test)\n",
        "\n",
        "# Calculate Mean Squared Error (MSE)\n",
        "mse = mean_squared_error(y_test, y_pred)\n",
        "\n",
        "# Calculate R-squared (R^2)\n",
        "r2 = r2_score(y_test, y_pred)\n",
        "\n",
        "# Calculate Root Mean Squared Error (RMSE)\n",
        "rmse = math.sqrt(mse)\n",
        "\n",
        "# Print the metrics\n",
        "print(f\"Mean Squared Error (MSE): {mse:.4f}\")\n",
        "print(f\"R-squared (R^2): {r2:.4f}\")\n",
        "print(f\"Root Mean Squared Error (RMSE): {rmse:.4f}\")\n",
        "\n",
        "# Print the best parameters found by GridSearchCV\n",
        "print(\"Best Parameters:\")\n",
        "for param, value in grid_search_reg.best_params_.items():\n",
        "    print(f\"{param}: {value}\")"
      ]
    },
    {
      "cell_type": "markdown",
      "metadata": {},
      "source": [
        "El error cuadrático medio (MSE) de 1837721178.4623 indica que las discrepancias entre los valores reales y predichos son considerables, lo que sugiere una alta variabilidad en las predicciones del modelo. Sin embargo, el valor del coeficiente de determinación (R-cuadrado) de 0.7604 muestra que aproximadamente el 76.04% de la data en la variable dependiente se explica por las variables independientes en el modelo, lo que señala una capacidad explicativa significativa.\n",
        "\n",
        "Aunque el R-cuadrado destaca la capacidad del modelo para explicar una parte sustancial de los datos, los valores altos de MSE y RMSE indican la presencia de errores y una variabilidad considerable en las predicciones. El RMSE sugiere que, en promedio, las predicciones del modelo se desvían en aproximadamente 42868.6503 unidades de los valores reales, reflejando el error típico cometido por el modelo."
      ]
    },
    {
      "cell_type": "markdown",
      "metadata": {},
      "source": [
        "#### Comparison Between Algorithms"
      ]
    },
    {
      "cell_type": "markdown",
      "metadata": {},
      "source": [
        "A continuación se muestran las métricas importantes de cada uno, obtenido del notebook de cada hoja realizada anteriormente con el algoritmo respectivo.\n",
        "\n",
        "|                      | SVM (Kernel Lineal) | Naive Bayes | Decision Tree | Regresión Lineal |\n",
        "|----------------------|---------------------|--------------|---------------|------------------|\n",
        "| R^2                  |        0.76            |     0.32        |      0.78        |       0.65          |\n",
        "| RMSE                 |        42,868            |     72,296        |      35,425        |       56,977          |\n"
      ]
    },
    {
      "cell_type": "markdown",
      "metadata": {},
      "source": [
        "Se observa que el modelo de regresión lineal alcanza un R-cuadrado bastante alto de 0.65. Por otro lado, el modelo Naive Bayes muestra un valor significativamente más bajo de 0.32, lo que sugiere una capacidad limitada para capturar la relación entre los features y la variable respuesta 'SalePrice'. En contraste, tanto el árbol de decisión como el modelo SVM con kernel lineal alcanzan valores competitivos de R-cuadrado de 0.78 y 0.76 respectivamente, demostrando una excelente capacidad para ajustarse a los datos.\n",
        "\n",
        "Al evaluar el RMSE, que representa la magnitud del error en las predicciones, vemos que el modelo SVM con kernel lineal exhibe un valor de 42,868, lo que implica que las predicciones tienden a desviarse en promedio alrededor de esa cantidad de la verdadera variable objetivo. En comparación, el modelo Naive Bayes muestra un RMSE significativamente más alto de 72,296, indicando una discrepancia de casi el doble entre las predicciones y los valores reales. Finalmente, tanto el árbol de decisión como la regresión lineal logran valores de RMSE más bajos de 35,425 y 56,977."
      ]
    },
    {
      "cell_type": "code",
      "execution_count": 52,
      "metadata": {},
      "outputs": [
        {
          "data": {
            "image/png": "[encoded data removed]",
            "text/plain": [
              "<Figure size 600x400 with 1 Axes>"
            ]
          },
          "metadata": {},
          "output_type": "display_data"
        }
      ],
      "source": [
        "# Data for the graph\n",
        "x_dataGraph = ['SVM (Kernel RBF)', 'Naive Bayes', 'Decision Tree', 'Linear Regression']\n",
        "r2DataGraph = [0.72, 0.32, 0.78, 0.65]\n",
        "\n",
        "# Plot settings\n",
        "sns.barplot(x=x_dataGraph, y=r2DataGraph, hue=x_dataGraph, palette=\"viridis\")\n",
        "plt.title('R-Squared for Each Model', fontsize=14)\n",
        "plt.xlabel('Models', fontsize=11)\n",
        "plt.ylabel('R-Squared', fontsize=11)\n",
        "plt.ylim(0.20, 1)\n",
        "plt.grid(axis='y', linestyle='--', alpha=0.7)\n",
        "plt.xticks(fontsize=10)\n",
        "plt.yticks(fontsize=10)\n",
        "\n",
        "# Add R^2 values on top of the bars\n",
        "for i, v in enumerate(r2DataGraph):\n",
        "    plt.text(i, v + 0.05, str(v), ha='center', va='bottom', fontsize=12)\n",
        "\n",
        "plt.show()\n"
      ]
    }
  ],
  "metadata": {
    "colab": {
      "collapsed_sections": [
        "mj_9IHB5JRMY",
        "Cw0Pik6O9ppQ"
      ],
      "provenance": []
    },
    "kernelspec": {
      "display_name": "Python 3",
      "name": "python3"
    },
    "language_info": {
      "codemirror_mode": {
        "name": "ipython",
        "version": 3
      },
      "file_extension": ".py",
      "mimetype": "text/x-python",
      "name": "python",
      "nbconvert_exporter": "python",
      "pygments_lexer": "ipython3",
      "version": "3.10.12"
    }
  },
  "nbformat": 4,
  "nbformat_minor": 0
}
